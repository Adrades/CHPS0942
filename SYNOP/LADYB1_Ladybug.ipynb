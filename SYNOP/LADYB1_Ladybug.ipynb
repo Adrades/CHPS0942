{
  "cells": [
    {
      "cell_type": "markdown",
      "metadata": {
        "id": "M7DgNxGeoc6w"
      },
      "source": [
        "\n",
        "# <!-- TITLE --> [LADYB1] - Prediction of a 2D trajectory via RNN\n",
        "<!-- DESC --> Artificial dataset generation and prediction attempt via a recurrent network\n",
        "<!-- AUTHOR : Jean-Luc Parouty (CNRS/SIMaP) -->\n",
        "\n",
        "## Objectives :\n",
        " - Understanding the use of a recurrent neural network\n",
        "\n",
        "## What we're going to do :\n",
        "\n",
        " - Generate an artificial dataset\n",
        " - dataset preparation\n",
        " - Doing our training\n",
        " - Making predictions\n",
        "\n",
        "## Step 1 - Import and init\n",
        "### 1.1 - Python"
      ]
    },
    {
      "cell_type": "code",
      "execution_count": null,
      "metadata": {
        "id": "oZe4oFuFoc61"
      },
      "outputs": [],
      "source": [
        "import tensorflow as tf\n",
        "from tensorflow import keras\n",
        "from tensorflow.keras.callbacks import TensorBoard\n",
        "from tensorflow.keras.preprocessing.sequence import TimeseriesGenerator\n",
        "\n",
        "import numpy as np\n",
        "import math, random\n",
        "from math import sin,cos,pi\n",
        "import matplotlib.pyplot as plt\n",
        "\n",
        "import pandas as pd\n",
        "import h5py, json\n",
        "import os,time,sys\n",
        "\n",
        "from importlib import reload\n",
        "\n",
        "\n",
        "run_dir = '.'"
      ]
    },
    {
      "cell_type": "code",
      "source": [
        "#@title\n",
        "\n",
        "from collections.abc import Iterable\n",
        "from sklearn.metrics import confusion_matrix\n",
        "import itertools\n",
        "import pandas as pd\n",
        "\n",
        "# -------------------------------------------------------------\n",
        "# show_images\n",
        "# -------------------------------------------------------------\n",
        "#\n",
        "def plot_images(x,y=None, indices='all', columns=12, x_size=1, y_size=1,\n",
        "                colorbar=False, y_pred=None, cm='binary', norm=None, y_padding=0.35, spines_alpha=1,\n",
        "                fontsize=20, interpolation='lanczos', save_as='auto'):\n",
        "    \"\"\"\n",
        "    Show some images in a grid, with legends\n",
        "    args:\n",
        "        x             : images - Shapes must be (-1,lx,ly) (-1,lx,ly,1) or (-1,lx,ly,3)\n",
        "        y             : real classes or labels or None (None)\n",
        "        indices       : indices of images to show or 'all' for all ('all')\n",
        "        columns       : number of columns (12)\n",
        "        x_size,y_size : figure size (1), (1)\n",
        "        colorbar      : show colorbar (False)\n",
        "        y_pred        : predicted classes (None)\n",
        "        cm            : Matplotlib color map (binary)\n",
        "        norm          : Matplotlib imshow normalization (None)\n",
        "        y_padding     : Padding / rows (0.35)\n",
        "        spines_alpha  : Spines alpha (1.)\n",
        "        font_size     : Font size in px (20)\n",
        "        save_as       : Filename to use if save figs is enable ('auto')\n",
        "    returns: \n",
        "        nothing\n",
        "    \"\"\"\n",
        "    if indices=='all': indices=range(len(x))\n",
        "    if norm and len(norm) == 2: norm = matplotlib.colors.Normalize(vmin=norm[0], vmax=norm[1])\n",
        "    draw_labels = (y is not None)\n",
        "    draw_pred   = (y_pred is not None)\n",
        "    rows        = math.ceil(len(indices)/columns)\n",
        "    fig=plt.figure(figsize=(columns*x_size, rows*(y_size+y_padding)))\n",
        "    n=1\n",
        "    for i in indices:\n",
        "        axs=fig.add_subplot(rows, columns, n)\n",
        "        n+=1\n",
        "        # ---- Shape is (lx,ly)\n",
        "        if len(x[i].shape)==2:\n",
        "            xx=x[i]\n",
        "        # ---- Shape is (lx,ly,n)\n",
        "        if len(x[i].shape)==3:\n",
        "            (lx,ly,lz)=x[i].shape\n",
        "            if lz==1: \n",
        "                xx=x[i].reshape(lx,ly)\n",
        "            else:\n",
        "                xx=x[i]\n",
        "        img=axs.imshow(xx,   cmap = cm, norm=norm, interpolation=interpolation)\n",
        "#         img=axs.imshow(xx,   cmap = cm, interpolation=interpolation)\n",
        "        axs.spines['right'].set_visible(True)\n",
        "        axs.spines['left'].set_visible(True)\n",
        "        axs.spines['top'].set_visible(True)\n",
        "        axs.spines['bottom'].set_visible(True)\n",
        "        axs.spines['right'].set_alpha(spines_alpha)\n",
        "        axs.spines['left'].set_alpha(spines_alpha)\n",
        "        axs.spines['top'].set_alpha(spines_alpha)\n",
        "        axs.spines['bottom'].set_alpha(spines_alpha)\n",
        "        axs.set_yticks([])\n",
        "        axs.set_xticks([])\n",
        "        if draw_labels and not draw_pred:\n",
        "            axs.set_xlabel(y[i],fontsize=fontsize)\n",
        "        if draw_labels and draw_pred:\n",
        "            if y[i]!=y_pred[i]:\n",
        "                axs.set_xlabel(f'{y_pred[i]} ({y[i]})',fontsize=fontsize)\n",
        "                axs.xaxis.label.set_color('red')\n",
        "            else:\n",
        "                axs.set_xlabel(y[i],fontsize=fontsize)\n",
        "        if colorbar:\n",
        "            fig.colorbar(img,orientation=\"vertical\", shrink=0.65)\n",
        "    plt.show()\n",
        "\n",
        "    \n",
        "def plot_image(x,cm='binary', figsize=(4,4),interpolation='lanczos', save_as='auto'):\n",
        "    \"\"\"\n",
        "    Draw a single image.\n",
        "    Image shape can be (lx,ly), (lx,ly,1) or (lx,ly,n)\n",
        "    args:\n",
        "        x       : image as np array\n",
        "        cm      : color map ('binary')\n",
        "        figsize : fig size (4,4)\n",
        "    \"\"\"\n",
        "    # ---- Shape is (lx,ly)\n",
        "    if len(x.shape)==2:\n",
        "        xx=x\n",
        "    # ---- Shape is (lx,ly,n)\n",
        "    if len(x.shape)==3:\n",
        "        (lx,ly,lz)=x.shape\n",
        "        if lz==1: \n",
        "            xx=x.reshape(lx,ly)\n",
        "        else:\n",
        "            xx=x\n",
        "    # ---- Draw it\n",
        "    plt.figure(figsize=figsize)\n",
        "    plt.imshow(xx,   cmap = cm, interpolation=interpolation)\n",
        "    plt.show()\n",
        "\n",
        "def plot_history(history, figsize=(8,6), \n",
        "                 plot={\"Accuracy\":['accuracy','val_accuracy'], 'Loss':['loss', 'val_loss']},\n",
        "                 save_as='auto'):\n",
        "    \"\"\"\n",
        "    Show history\n",
        "    args:\n",
        "        history: history\n",
        "        figsize: fig size\n",
        "        plot: list of data to plot : {<title>:[<metrics>,...], ...}\n",
        "    \"\"\"\n",
        "    fig_id=0\n",
        "    for title,curves in plot.items():\n",
        "        plt.figure(figsize=figsize)\n",
        "        plt.title(title)\n",
        "        plt.ylabel(title)\n",
        "        plt.xlabel('Epoch')\n",
        "        for c in curves:\n",
        "            plt.plot(history.history[c])\n",
        "        plt.legend(curves, loc='upper left')\n",
        "        if save_as=='auto':\n",
        "            figname='auto'\n",
        "        else:\n",
        "            figname=f'{save_as}_{fig_id}'\n",
        "            fig_id+=1\n",
        "        plt.show()\n",
        "\n",
        "def plot_confusion_matrix(y_true,y_pred,\n",
        "                          target_names,\n",
        "                          title='Confusion matrix',\n",
        "                          cmap=None,\n",
        "                          normalize=True,\n",
        "                          figsize=(10, 8),\n",
        "                          digit_format='{:0.2f}',\n",
        "                          save_as='auto'):\n",
        "    \"\"\"\n",
        "    given a sklearn confusion matrix (cm), make a nice plot\n",
        "\n",
        "    Arguments\n",
        "    ---------\n",
        "    cm:           confusion matrix from sklearn.metrics.confusion_matrix\n",
        "\n",
        "    target_names: given classification classes such as [0, 1, 2]\n",
        "                  the class names, for example: ['high', 'medium', 'low']\n",
        "\n",
        "    title:        the text to display at the top of the matrix\n",
        "\n",
        "    cmap:         the gradient of the values displayed from matplotlib.pyplot.cm\n",
        "                  see http://matplotlib.org/examples/color/colormaps_reference.html\n",
        "                  plt.get_cmap('jet') or plt.cm.Blues\n",
        "\n",
        "    normalize:    If False, plot the raw numbers\n",
        "                  If True, plot the proportions\n",
        "\n",
        "    Citiation\n",
        "    ---------\n",
        "    http://scikit-learn.org/stable/auto_examples/model_selection/plot_confusion_matrix.html\n",
        "\n",
        "    \"\"\"\n",
        "    cm = confusion_matrix( y_true,y_pred, normalize=None, labels=target_names)\n",
        "    \n",
        "    accuracy = np.trace(cm) / float(np.sum(cm))\n",
        "    misclass = 1 - accuracy\n",
        "\n",
        "    if cmap is None:\n",
        "        cmap = plt.get_cmap('Blues')\n",
        "\n",
        "    plt.figure(figsize=figsize)\n",
        "    plt.imshow(cm, interpolation='nearest', cmap=cmap)\n",
        "    plt.title(title)\n",
        "    plt.colorbar()\n",
        "\n",
        "    if target_names is not None:\n",
        "        tick_marks = np.arange(len(target_names))\n",
        "        plt.xticks(tick_marks, target_names, rotation=90)\n",
        "        plt.yticks(tick_marks, target_names)\n",
        "\n",
        "    if normalize:\n",
        "        cm = cm.astype('float') / cm.sum(axis=1)[:, np.newaxis]\n",
        "\n",
        "\n",
        "    thresh = cm.max() / 1.5 if normalize else cm.max() / 2\n",
        "    for i, j in itertools.product(range(cm.shape[0]), range(cm.shape[1])):\n",
        "        if normalize:\n",
        "            plt.text(j, i, digit_format.format(cm[i, j]),\n",
        "                     horizontalalignment=\"center\",\n",
        "                     color=\"white\" if cm[i, j] > thresh else \"black\")\n",
        "        else:\n",
        "            plt.text(j, i, \"{:,}\".format(cm[i, j]),\n",
        "                     horizontalalignment=\"center\",\n",
        "                     color=\"white\" if cm[i, j] > thresh else \"black\")\n",
        "\n",
        "    plt.tight_layout()\n",
        "    plt.ylabel('True label')\n",
        "    plt.xlabel('Predicted label\\naccuracy={:0.4f}; misclass={:0.4f}'.format(accuracy, misclass))\n",
        "    plt.show()\n",
        "\n",
        "\n",
        "    \n",
        "def display_confusion_matrix(y_true,y_pred,labels=None,color='green',\n",
        "                             font_size='12pt'):\n",
        "    \"\"\"\n",
        "    Show a confusion matrix for a predictions.\n",
        "    see : sklearn.metrics.confusion_matrix\n",
        "\n",
        "    Args:\n",
        "        y_true:       Real classes\n",
        "        y_pred:       Predicted classes\n",
        "        labels:       List of classes to show in the cm\n",
        "        color:        Color for the palette (green)\n",
        "        font_size:    Values font size \n",
        "        title:        the text to display at the top of the matrix        \n",
        "    \"\"\"\n",
        "    assert (labels!=None),\"Label must be set\"\n",
        "    \n",
        "    \n",
        "    cm = confusion_matrix( y_true,y_pred, normalize=\"true\", labels=labels)\n",
        "    df=pd.DataFrame(cm)\n",
        "\n",
        "#     cmap = sn.light_palette(color, as_cmap=True)\n",
        "\n",
        "    colorsList = ['whitesmoke','bisque']\n",
        "    cmap = matplotlib.colors.ListedColormap(colorsList)\n",
        "    cmap = matplotlib.colors.ListedColormap(cmap(np.linspace(0, 1, 256)))\n",
        "\n",
        "    df.style.set_properties(**{'font-size': '20pt'})\n",
        "    display(df.style.format('{:.2f}') \\\n",
        "            .background_gradient(cmap=cmap)\n",
        "            .set_properties(**{'font-size': font_size}))\n",
        "    \n",
        "\n",
        "def plot_donut(values, labels, colors=[\"lightsteelblue\",\"coral\"], figsize=(6,6), title=None):\n",
        "    \"\"\"\n",
        "    Draw a donut\n",
        "    args:\n",
        "        values   : list of values\n",
        "        labels   : list of labels\n",
        "        colors   : list of color ([\"lightsteelblue\",\"coral\"])\n",
        "        figsize  : size of figure ( (6,6) )\n",
        "    return:\n",
        "        nothing\n",
        "    \"\"\"\n",
        "    # ---- Title or not\n",
        "    if title != None :  display(Markdown(title))\n",
        "    # ---- Donut\n",
        "    plt.figure(figsize=figsize)\n",
        "    # ---- Draw a pie  chart..\n",
        "    plt.pie(values, labels=labels, \n",
        "            colors = colors, autopct='%1.1f%%', startangle=70, pctdistance=0.85,\n",
        "            textprops={'fontsize': 18},\n",
        "            wedgeprops={\"edgecolor\":\"w\",'linewidth': 5, 'linestyle': 'solid', 'antialiased': True})\n",
        "    # ---- ..with a white circle\n",
        "    circle = plt.Circle((0,0),0.70,fc='white')\n",
        "    ax = plt.gca()\n",
        "    ax.add_artist(circle)\n",
        "    # Equal aspect ratio ensures that pie is drawn as a circle\n",
        "    plt.axis('equal')  \n",
        "    plt.tight_layout()\n",
        "    plt.show()\n",
        "\n",
        "def rmax(l):\n",
        "    \"\"\"\n",
        "    Recursive max() for a given iterable of iterables\n",
        "    Should be np.array of np.array or list of list, etc.\n",
        "    args:\n",
        "        l : Iterable of iterables\n",
        "    return: \n",
        "        max value\n",
        "    \"\"\"\n",
        "    maxi = float('-inf')\n",
        "    for item in l:\n",
        "        if isinstance(item, Iterable):\n",
        "\n",
        "            t = rmax(item)\n",
        "        else:\n",
        "            t = item\n",
        "        if t > maxi:\n",
        "            maxi = t\n",
        "    return maxi\n",
        "\n",
        "def rmin(l):\n",
        "    \"\"\"\n",
        "    Recursive min() for a given iterable of iterables\n",
        "    Should be np.array of np.array or list of list, etc.\n",
        "    args:\n",
        "        l : Iterable of iterables\n",
        "    return: \n",
        "        min value\n",
        "    \"\"\"\n",
        "    mini = float('inf')\n",
        "    for item in l:\n",
        "        if isinstance(item, Iterable):\n",
        "            t = rmin(item)\n",
        "        else:\n",
        "            t = item\n",
        "        if t < mini:\n",
        "            mini = t\n",
        "    return mini\n",
        "\n",
        "def plot_2d_serie(data, figsize=(10,8), monocolor=False, hide_ticks=True, lw=2, ms=4, save_as='auto'):\n",
        "    \"\"\"\n",
        "    Plot a 2d dataset as a trajectory\n",
        "    args:\n",
        "        data:      Dataset to plot\n",
        "        figsize:   Figure size ( (10,8))\n",
        "        monocolor: Monocolor line or not. (False)\n",
        "    return:\n",
        "        nothing\n",
        "    \"\"\"\n",
        "    # ---- Get x,y, min and max\n",
        "    #\n",
        "    n     = len(data)\n",
        "    k     = int(n/100)\n",
        "    x,y   = data[:,0], data[:,1]\n",
        " \n",
        "    # ---- Draw it\n",
        "    #\n",
        "    fig = plt.figure(figsize=figsize)\n",
        "    ax = plt.axes()\n",
        "\n",
        "    # ---- Monocolor or gray gradient\n",
        "    #\n",
        "    if monocolor:\n",
        "        ax.plot(x,y)\n",
        "    else:\n",
        "        for i in range(0,100):\n",
        "            a= (200-i)/200\n",
        "            ax.plot(x[i*k:(i+1)*k+1], y[i*k:(i+1)*k+1], '-', color=(a,a,a),lw=lw,zorder=1)\n",
        "\n",
        "    # ---- Last point\n",
        "    #\n",
        "    ax.plot(x[n-1], y[n-1], 'o', color='C1',ms=ms,zorder=2)\n",
        "    \n",
        "    ax.set_aspect('equal', 'box')\n",
        "    ax.set_xlabel('axis=0')\n",
        "    ax.set_ylabel('axis=1')\n",
        "    \n",
        "    if hide_ticks:\n",
        "        ax.set_yticks([])\n",
        "        ax.set_xticks([])\n",
        "\n",
        "    plt.show()\n",
        "\n",
        "def plot_2d_segment(sequence_real, sequence_pred, figsize=(10,8), ms=6, lw=1, hide_ticks=True, save_as='auto'):\n",
        "    \"\"\"\n",
        "    Plot a 2d segment real and predicted\n",
        "    args:\n",
        "        sequence_real: Real sequence\n",
        "        sequence_pred: Predicted sequence\n",
        "        figsize:       Figure size ( (10,8) )\n",
        "        ms:            Marker size (6)\n",
        "    return:\n",
        "        nothing\n",
        "    \"\"\"\n",
        "    k = len(sequence_pred)\n",
        "    x,y = sequence_real[:,0],sequence_real[:,1]\n",
        "    u,v = sequence_pred[:,0],sequence_pred[:,1]\n",
        "    \n",
        "    fig = plt.figure(figsize=figsize)\n",
        "\n",
        "    ax = plt.axes()\n",
        "    \n",
        "    # ---- Draw real sequence without prediction\n",
        "    #\n",
        "    ax.plot(x[:-k], y[:-k],   'o', color='C0', fillstyle='full', zorder=2, ms=ms)\n",
        "    ax.plot(x, y,             '-', color='C0', lw=lw, zorder=1)\n",
        "    \n",
        "    # ---- What we expect\n",
        "    #\n",
        "    ax.plot(x[-k:], y[-k:], 'o', ms=ms, markeredgecolor='C0', markerfacecolor='white', zorder=2)\n",
        "\n",
        "    # ---- What we have\n",
        "    #\n",
        "    ax.plot(u, v,                            'o',  color='C1',fillstyle='full',zorder=2, ms=ms)\n",
        "    ax.plot( [x[-1-k],u[0]], [y[-1-k],v[0]], '--', color='C1',lw=lw, zorder=1)\n",
        "    ax.plot(u, v,                            '--', color='C1',lw=lw, zorder=1)\n",
        "\n",
        "    ax.set_aspect('equal', 'box')\n",
        "    ax.set_xlabel('axis=0')\n",
        "    ax.set_ylabel('axis=1')\n",
        "    \n",
        "    if hide_ticks:\n",
        "        ax.set_yticks([])\n",
        "        ax.set_xticks([])\n",
        "\n",
        "    plt.show()\n",
        "\n",
        "def np_print(*args, precision=3, linewidth=120):\n",
        "    with np.printoptions(precision=precision, linewidth=linewidth):\n",
        "        for a in args:\n",
        "            print(a)\n",
        "\n",
        "def plot_multivariate_serie(sequence, labels=None, predictions=None, only_features=None,\n",
        "                            columns=3, width=5,height=4,wspace=0.3,hspace=0.2,ms=6,lw=1,\n",
        "                            save_as='auto', time_dt=1, hide_ticks=False):\n",
        "    \n",
        "    sequence_len = len(sequence)\n",
        "    features_len = sequence.shape[1]\n",
        "    if only_features is None : only_features=range(features_len)\n",
        "    if labels is None        : labels=range(features_len)\n",
        "    \n",
        "    t  = np.arange(sequence_len)    \n",
        "    if predictions is None:\n",
        "        dt = 0\n",
        "    else:\n",
        "        dt = len(predictions)\n",
        "        sequence_with_pred = sequence.copy()\n",
        "        sequence_with_pred[-dt:]=predictions\n",
        "\n",
        "    rows = math.ceil(features_len/columns)\n",
        "    fig  = plt.figure(figsize=(columns*width, rows*height))\n",
        "    fig.subplots_adjust(wspace=0.3,hspace=0.2)\n",
        "    n=1\n",
        "    for i in only_features:\n",
        "        ax=fig.add_subplot(rows, columns, n)\n",
        "        \n",
        "        # ---- Real sequence without prediction\n",
        "        #\n",
        "        ax.plot( t[:-dt],sequence[:-dt,i], 'o',  markersize=ms, color='C0', zorder=2)\n",
        "        ax.plot( t,sequence[:,i],          '-',  linewidth=lw,  color='C0', label=labels[i],zorder=1)\n",
        "\n",
        "        # ---- What we expect\n",
        "        #\n",
        "        ax.plot(t[-dt:], sequence[-dt:,i], 'o', markeredgecolor='C0',markerfacecolor='white',ms=6)\n",
        "        \n",
        "        if predictions is not None:\n",
        "            ax.plot(t[-dt-1:], sequence_with_pred[-dt-1:,i], '--',  lw=lw, fillstyle='full',  ms=ms, color='C1',zorder=1)\n",
        "            ax.plot(t[-dt:],   predictions[:,i],             'o',   lw=lw, fillstyle='full',  ms=ms, color='C1',zorder=2)\n",
        "\n",
        "        if hide_ticks:\n",
        "            ax.set_yticks([])\n",
        "            ax.set_xticks([])\n",
        "        \n",
        "        ax.legend(loc=\"upper left\")\n",
        "        n+=1\n",
        "    plt.show()\n",
        "\n"
      ],
      "metadata": {
        "cellView": "form",
        "id": "QJh01E5ponyI"
      },
      "execution_count": null,
      "outputs": []
    },
    {
      "cell_type": "markdown",
      "metadata": {
        "id": "T9exp28Boc63"
      },
      "source": [
        "### 1.2 - Parameters"
      ]
    },
    {
      "cell_type": "code",
      "execution_count": null,
      "metadata": {
        "id": "ldd-hf4coc63"
      },
      "outputs": [],
      "source": [
        "# ---- About dataset\n",
        "#\n",
        "max_t        = 1000\n",
        "delta_t      = 0.02\n",
        "features_len = 2\n",
        "\n",
        "\n",
        "sequence_len = 20\n",
        "predict_len  = 5\n",
        "\n",
        "# ---- About training\n",
        "#\n",
        "scale         = 1        # Percentage of dataset to be used (1=all)\n",
        "train_prop    = .8       # Percentage for train (the rest being for the test)\n",
        "batch_size    = 32\n",
        "epochs        = 5\n",
        "fit_verbosity = 1        # 0 = silent, 1 = progress bar, 2 = one line per epoch"
      ]
    },
    {
      "cell_type": "markdown",
      "metadata": {
        "id": "ixVg-Bakoc65"
      },
      "source": [
        "## Step 2 - Generation of a fun dataset\n",
        "### 2.1 - Virtual trajectory of our ladybug"
      ]
    },
    {
      "cell_type": "code",
      "execution_count": null,
      "metadata": {
        "id": "W0gwBMJfoc66"
      },
      "outputs": [],
      "source": [
        "def ladybug_init(s=122):\n",
        "    \n",
        "    if s>0 : random.seed(s)\n",
        "    ladybug_init.params_x = [ random.gauss(0.,1.) for u in range(8)]\n",
        "    ladybug_init.params_y = [ random.gauss(0.,1.) for u in range(8)]\n",
        "    \n",
        "def ladybug_move(t):\n",
        "    k=0.5\n",
        "    [ax1, ax2, ax3, ax4, kx1, kx2, kx3, kx4] = ladybug_init.params_x\n",
        "    [ay1, ay2, ay3, ay4, ky1, ky2, ky3, ky4] = ladybug_init.params_y\n",
        "    \n",
        "    x = ax1*sin(t*(kx1+20)) + ax2*cos(t*(kx2+10)) + ax3*sin(t*(kx3+5)) + ax4*cos(t*(kx4+5))\n",
        "    y = ay1*cos(t*(ky1+20)) + ay2*sin(t*(ky2+10)) + ay3*cos(t*(ky3+5)) + ay4*sin(t*(ky4+5)) \n",
        "\n",
        "\n",
        "    return x,y"
      ]
    },
    {
      "cell_type": "markdown",
      "metadata": {
        "id": "D5PH2ECWoc67"
      },
      "source": [
        "### 2.2 - Get some positions, and build a rescaled and normalized dataset"
      ]
    },
    {
      "cell_type": "code",
      "execution_count": null,
      "metadata": {
        "id": "t8-yNORFoc68"
      },
      "outputs": [],
      "source": [
        "# ---- Get positions\n",
        "#\n",
        "ladybug_init(s=16)\n",
        "x,y = 0,0\n",
        "positions=[]\n",
        "for t in np.arange(0., max_t, delta_t):\n",
        "    positions.append([x,y])\n",
        "    x,y = ladybug_move(t)\n",
        "#     (x,y) = (x+dx, y+dy)\n",
        "\n",
        "# ---- Build rescaled dataset\n",
        "#\n",
        "n = int( len(positions)*scale )\n",
        "dataset = np.array(positions[:n])\n",
        "\n",
        "k = int(len(dataset)*train_prop)\n",
        "x_train = dataset[:k]\n",
        "x_test  = dataset[k:]\n",
        "\n",
        "# ---- Normalize\n",
        "#\n",
        "mean = x_train.mean()\n",
        "std  = x_train.std()\n",
        "x_train = (x_train - mean) / std\n",
        "x_test  = (x_test  - mean) / std\n",
        "\n",
        "print(\"Dataset generated.\")\n",
        "print(\"Train shape is : \", x_train.shape)\n",
        "print(\"Test  shape is : \", x_test.shape)\n"
      ]
    },
    {
      "cell_type": "markdown",
      "metadata": {
        "id": "IzRdfMAloc68"
      },
      "source": [
        "### 2.3 - Have a look\n",
        "An extract from the data we have: the virtual trajectory of our ladybug   \n",
        "And what we want to predict (in red), from a segment (in blue)"
      ]
    },
    {
      "cell_type": "code",
      "execution_count": null,
      "metadata": {
        "id": "fDhUw0D1oc69"
      },
      "outputs": [],
      "source": [
        "plot_2d_serie(x_train[:1000], figsize=(12,12), lw=1,ms=4,save_as='01-dataset')"
      ]
    },
    {
      "cell_type": "code",
      "execution_count": null,
      "metadata": {
        "id": "gegeSc1Woc69"
      },
      "outputs": [],
      "source": [
        "k1,k2 = sequence_len, predict_len\n",
        "i = random.randint(0,len(x_test)-k1-k2)\n",
        "j = i+k1\n",
        "\n",
        "plot_2d_segment( x_test[i:j+k2], x_test[j:j+k2],ms=6)"
      ]
    },
    {
      "cell_type": "markdown",
      "metadata": {
        "id": "c8tJMHZYoc6-"
      },
      "source": [
        "### 2.4 - Prepare some nice data generator"
      ]
    },
    {
      "cell_type": "code",
      "execution_count": null,
      "metadata": {
        "id": "EXItco6Foc6-"
      },
      "outputs": [],
      "source": [
        "# ---- Train generator\n",
        "#\n",
        "train_generator = TimeseriesGenerator(x_train, x_train, length=sequence_len,  batch_size=batch_size)\n",
        "test_generator  = TimeseriesGenerator(x_test,  x_test,  length=sequence_len,  batch_size=batch_size)\n",
        "\n",
        "# ---- About\n",
        "#\n",
        "print('About the splitting of our dataset :')\n",
        "\n",
        "x,y=train_generator[0]\n",
        "print(f'Number of batch trains available : ', len(train_generator))\n",
        "print('batch x shape : ',x.shape)\n",
        "print('batch y shape : ',y.shape)\n",
        "\n",
        "x,y=train_generator[0]\n",
        "print('What a batch looks like (x) :')\n",
        "np_print(x[0] )\n",
        "print('What a batch looks like (y) :')\n",
        "np_print(y[0])"
      ]
    },
    {
      "cell_type": "markdown",
      "metadata": {
        "id": "AQ1IDr5Boc6_"
      },
      "source": [
        "## Step 3 - Create a model"
      ]
    },
    {
      "cell_type": "code",
      "execution_count": null,
      "metadata": {
        "id": "3n-TUcOgoc6_"
      },
      "outputs": [],
      "source": [
        "model = keras.models.Sequential()\n",
        "model.add( keras.layers.InputLayer(input_shape=(sequence_len, features_len)) )\n",
        "# model.add( keras.layers.GRU(200, dropout=.1, recurrent_dropout=0.5, return_sequences=False, activation='relu') )\n",
        "model.add( keras.layers.GRU(200, return_sequences=False, activation='relu') )\n",
        "model.add( keras.layers.Dense(features_len) )\n",
        "\n",
        "model.summary()"
      ]
    },
    {
      "cell_type": "markdown",
      "metadata": {
        "id": "-Ff42S4_oc6_"
      },
      "source": [
        "## Step 4 - Compile and run"
      ]
    },
    {
      "cell_type": "markdown",
      "metadata": {
        "id": "eGEWR2Dmoc7A"
      },
      "source": [
        "### 4.1 - Add callback"
      ]
    },
    {
      "cell_type": "code",
      "execution_count": null,
      "metadata": {
        "id": "GN3BVBHcoc7A"
      },
      "outputs": [],
      "source": [
        "os.makedirs(f'{run_dir}/models',   mode=0o750, exist_ok=True)\n",
        "save_dir = './run/models/best_model.h5'\n",
        "bestmodel_callback = tf.keras.callbacks.ModelCheckpoint(filepath=save_dir, verbose=0, save_best_only=True)"
      ]
    },
    {
      "cell_type": "markdown",
      "metadata": {
        "id": "MEIzwe5loc7A"
      },
      "source": [
        "### 4.2 - Compile"
      ]
    },
    {
      "cell_type": "code",
      "execution_count": null,
      "metadata": {
        "id": "QSn1zOd8oc7A"
      },
      "outputs": [],
      "source": [
        "model.compile(optimizer='rmsprop', \n",
        "              loss='mse', \n",
        "              metrics   = ['mae'] )"
      ]
    },
    {
      "cell_type": "markdown",
      "metadata": {
        "id": "tndtoRL5oc7B"
      },
      "source": [
        "### 4.3 - Fit "
      ]
    },
    {
      "cell_type": "code",
      "execution_count": null,
      "metadata": {
        "id": "ZwxqIr0Yoc7B"
      },
      "outputs": [],
      "source": [
        "%%time\n",
        "history=model.fit(train_generator, \n",
        "                  epochs  = epochs, \n",
        "                  verbose = fit_verbosity,\n",
        "                  validation_data = test_generator,\n",
        "                  callbacks = [bestmodel_callback])\n"
      ]
    },
    {
      "cell_type": "code",
      "execution_count": null,
      "metadata": {
        "id": "amWa4a5Yoc7C"
      },
      "outputs": [],
      "source": [
        "plot_history(history,plot={'loss':['loss','val_loss'], 'mae':['mae','val_mae']})"
      ]
    },
    {
      "cell_type": "markdown",
      "metadata": {
        "id": "ZLnHza2Woc7C"
      },
      "source": [
        "## Step 5 - Predict"
      ]
    },
    {
      "cell_type": "markdown",
      "metadata": {
        "id": "v27ZWX2-oc7C"
      },
      "source": [
        "### 5.1 - Load model"
      ]
    },
    {
      "cell_type": "code",
      "execution_count": null,
      "metadata": {
        "id": "LWSSpGM2oc7C"
      },
      "outputs": [],
      "source": [
        "loaded_model = tf.keras.models.load_model('./run/models/best_model.h5')\n",
        "print('Loaded.')"
      ]
    },
    {
      "cell_type": "markdown",
      "metadata": {
        "id": "ifXffO7aoc7C"
      },
      "source": [
        "### 5.2 - Make a 1-step prediction\n",
        "A simple prediction on a single iteration"
      ]
    },
    {
      "cell_type": "code",
      "execution_count": null,
      "metadata": {
        "id": "2F2tmAe2oc7D"
      },
      "outputs": [],
      "source": [
        "s=random.randint(0,len(x_test)-sequence_len)\n",
        "\n",
        "sequence      = x_test[s:s+sequence_len]\n",
        "sequence_true = x_test[s:s+sequence_len+1]\n",
        "\n",
        "sequence_pred = loaded_model.predict( np.array([sequence]) )\n",
        "\n",
        "plot_2d_segment(sequence_true, sequence_pred)\n",
        "plot_multivariate_serie(sequence_true, predictions=sequence_pred, labels=['Axis=0', 'Axis=1'],save_as='04-one-step-prediction')"
      ]
    },
    {
      "cell_type": "markdown",
      "metadata": {
        "id": "1zDNhYgIoc7D"
      },
      "source": [
        "### 5.3 - Make n-steps prediction\n",
        "A longer term prediction, via a nice iteration function :"
      ]
    },
    {
      "cell_type": "code",
      "execution_count": null,
      "metadata": {
        "id": "ADKcVih9oc7D"
      },
      "outputs": [],
      "source": [
        "def get_prediction(dataset, model, iterations=4):\n",
        "\n",
        "    # ---- Initial sequence\n",
        "    #\n",
        "    s=random.randint(0,len(dataset)-sequence_len-iterations)\n",
        "\n",
        "    sequence_pred = dataset[s:s+sequence_len].copy()\n",
        "    sequence_true = dataset[s:s+sequence_len+iterations].copy()\n",
        "\n",
        "    # ---- Iterate \n",
        "    #\n",
        "    sequence_pred = list(sequence_pred)\n",
        "\n",
        "    for i in range(iterations):\n",
        "        sequence   = sequence_pred[-sequence_len:]\n",
        "        prediction = model.predict( np.array([sequence]) )\n",
        "        sequence_pred.append(prediction[0])\n",
        "\n",
        "    # ---- Extract the predictions    \n",
        "    #\n",
        "    prediction = np.array(sequence_pred[-iterations:])\n",
        "\n",
        "    return sequence_true,prediction"
      ]
    },
    {
      "cell_type": "markdown",
      "metadata": {
        "id": "iRzHBDm4oc7D"
      },
      "source": [
        "An n-steps prediction :"
      ]
    },
    {
      "cell_type": "code",
      "execution_count": null,
      "metadata": {
        "id": "LIjd36KIoc7D"
      },
      "outputs": [],
      "source": [
        "sequence_true, sequence_pred = get_prediction(x_test, loaded_model, iterations=5)\n",
        "\n",
        "plot_2d_segment(sequence_true, sequence_pred, ms=8, save_as='02-prediction-norm')\n",
        "plot_multivariate_serie(sequence_true, predictions=sequence_pred, hide_ticks=True, labels=['Axis=0', 'Axis=1'],save_as='02-prediction-norm')"
      ]
    },
    {
      "cell_type": "markdown",
      "metadata": {
        "id": "9NKtFItuoc7E"
      },
      "source": [
        "* Exercice extrait de la formation FIDLE https://gricad-gitlab.univ-grenoble-alpes.fr/talks/fidle"
      ]
    },
    {
      "cell_type": "code",
      "source": [
        ""
      ],
      "metadata": {
        "id": "gnSupM6KsLW9"
      },
      "execution_count": null,
      "outputs": []
    }
  ],
  "metadata": {
    "interpreter": {
      "hash": "8e38643e33497db9a306e3f311fa98cb1e65371278ca73ee4ea0c76aa5a4f387"
    },
    "kernelspec": {
      "display_name": "Python 3.9.7 64-bit ('fidle-cpu': conda)",
      "name": "python3"
    },
    "language_info": {
      "codemirror_mode": {
        "name": "ipython",
        "version": 3
      },
      "file_extension": ".py",
      "mimetype": "text/x-python",
      "name": "python",
      "nbconvert_exporter": "python",
      "pygments_lexer": "ipython3",
      "version": "3.9.7"
    },
    "colab": {
      "name": "LADYB1_Ladybug.ipynb",
      "provenance": []
    },
    "accelerator": "GPU"
  },
  "nbformat": 4,
  "nbformat_minor": 0
}