{
  "cells": [
    {
      "cell_type": "markdown",
      "metadata": {
        "id": "zpUOzM5Pi8Wq"
      },
      "source": [
        "\n",
        "# <!-- TITLE --> [IMDB4] - Reload embedded vectors\n",
        "<!-- DESC --> Retrieving embedded vectors from our trained model\n",
        "<!-- AUTHOR : Jean-Luc Parouty (CNRS/SIMaP) -->\n",
        "\n",
        "## Objectives :\n",
        " - The objective is to retrieve and visualize our embedded vectors\n",
        "\n",
        "## What we're going to do :\n",
        "\n",
        " - Retrieve our saved model (actually, we will regenerate because of Colab)\n",
        " - Extract vectors and play with\n"
      ]
    },
    {
      "cell_type": "markdown",
      "metadata": {
        "id": "_5ie1gPDi8Ww"
      },
      "source": [
        "## Step 1 - Init python stuff"
      ]
    },
    {
      "cell_type": "code",
      "execution_count": null,
      "metadata": {
        "id": "hCW9ysami8Wx"
      },
      "outputs": [],
      "source": [
        "import numpy as np\n",
        "\n",
        "import tensorflow as tf\n",
        "import tensorflow.keras as keras\n",
        "import tensorflow.keras.datasets.imdb as imdb\n",
        "\n",
        "import matplotlib.pyplot as plt\n",
        "import matplotlib\n",
        "import pandas as pd\n",
        "\n",
        "import os,sys,h5py,json,re\n",
        "\n",
        "from importlib import reload\n",
        "\n",
        "\n",
        "run_dir = '.'"
      ]
    },
    {
      "cell_type": "code",
      "source": [
        "#@title\n",
        "\n",
        "from collections.abc import Iterable\n",
        "from sklearn.metrics import confusion_matrix\n",
        "import itertools\n",
        "import pandas as pd\n",
        "\n",
        "# -------------------------------------------------------------\n",
        "# show_images\n",
        "# -------------------------------------------------------------\n",
        "#\n",
        "def plot_images(x,y=None, indices='all', columns=12, x_size=1, y_size=1,\n",
        "                colorbar=False, y_pred=None, cm='binary', norm=None, y_padding=0.35, spines_alpha=1,\n",
        "                fontsize=20, interpolation='lanczos', save_as='auto'):\n",
        "    \"\"\"\n",
        "    Show some images in a grid, with legends\n",
        "    args:\n",
        "        x             : images - Shapes must be (-1,lx,ly) (-1,lx,ly,1) or (-1,lx,ly,3)\n",
        "        y             : real classes or labels or None (None)\n",
        "        indices       : indices of images to show or 'all' for all ('all')\n",
        "        columns       : number of columns (12)\n",
        "        x_size,y_size : figure size (1), (1)\n",
        "        colorbar      : show colorbar (False)\n",
        "        y_pred        : predicted classes (None)\n",
        "        cm            : Matplotlib color map (binary)\n",
        "        norm          : Matplotlib imshow normalization (None)\n",
        "        y_padding     : Padding / rows (0.35)\n",
        "        spines_alpha  : Spines alpha (1.)\n",
        "        font_size     : Font size in px (20)\n",
        "        save_as       : Filename to use if save figs is enable ('auto')\n",
        "    returns: \n",
        "        nothing\n",
        "    \"\"\"\n",
        "    if indices=='all': indices=range(len(x))\n",
        "    if norm and len(norm) == 2: norm = matplotlib.colors.Normalize(vmin=norm[0], vmax=norm[1])\n",
        "    draw_labels = (y is not None)\n",
        "    draw_pred   = (y_pred is not None)\n",
        "    rows        = math.ceil(len(indices)/columns)\n",
        "    fig=plt.figure(figsize=(columns*x_size, rows*(y_size+y_padding)))\n",
        "    n=1\n",
        "    for i in indices:\n",
        "        axs=fig.add_subplot(rows, columns, n)\n",
        "        n+=1\n",
        "        # ---- Shape is (lx,ly)\n",
        "        if len(x[i].shape)==2:\n",
        "            xx=x[i]\n",
        "        # ---- Shape is (lx,ly,n)\n",
        "        if len(x[i].shape)==3:\n",
        "            (lx,ly,lz)=x[i].shape\n",
        "            if lz==1: \n",
        "                xx=x[i].reshape(lx,ly)\n",
        "            else:\n",
        "                xx=x[i]\n",
        "        img=axs.imshow(xx,   cmap = cm, norm=norm, interpolation=interpolation)\n",
        "#         img=axs.imshow(xx,   cmap = cm, interpolation=interpolation)\n",
        "        axs.spines['right'].set_visible(True)\n",
        "        axs.spines['left'].set_visible(True)\n",
        "        axs.spines['top'].set_visible(True)\n",
        "        axs.spines['bottom'].set_visible(True)\n",
        "        axs.spines['right'].set_alpha(spines_alpha)\n",
        "        axs.spines['left'].set_alpha(spines_alpha)\n",
        "        axs.spines['top'].set_alpha(spines_alpha)\n",
        "        axs.spines['bottom'].set_alpha(spines_alpha)\n",
        "        axs.set_yticks([])\n",
        "        axs.set_xticks([])\n",
        "        if draw_labels and not draw_pred:\n",
        "            axs.set_xlabel(y[i],fontsize=fontsize)\n",
        "        if draw_labels and draw_pred:\n",
        "            if y[i]!=y_pred[i]:\n",
        "                axs.set_xlabel(f'{y_pred[i]} ({y[i]})',fontsize=fontsize)\n",
        "                axs.xaxis.label.set_color('red')\n",
        "            else:\n",
        "                axs.set_xlabel(y[i],fontsize=fontsize)\n",
        "        if colorbar:\n",
        "            fig.colorbar(img,orientation=\"vertical\", shrink=0.65)\n",
        "    plt.show()\n",
        "\n",
        "    \n",
        "def plot_image(x,cm='binary', figsize=(4,4),interpolation='lanczos', save_as='auto'):\n",
        "    \"\"\"\n",
        "    Draw a single image.\n",
        "    Image shape can be (lx,ly), (lx,ly,1) or (lx,ly,n)\n",
        "    args:\n",
        "        x       : image as np array\n",
        "        cm      : color map ('binary')\n",
        "        figsize : fig size (4,4)\n",
        "    \"\"\"\n",
        "    # ---- Shape is (lx,ly)\n",
        "    if len(x.shape)==2:\n",
        "        xx=x\n",
        "    # ---- Shape is (lx,ly,n)\n",
        "    if len(x.shape)==3:\n",
        "        (lx,ly,lz)=x.shape\n",
        "        if lz==1: \n",
        "            xx=x.reshape(lx,ly)\n",
        "        else:\n",
        "            xx=x\n",
        "    # ---- Draw it\n",
        "    plt.figure(figsize=figsize)\n",
        "    plt.imshow(xx,   cmap = cm, interpolation=interpolation)\n",
        "    plt.show()\n",
        "\n",
        "def plot_history(history, figsize=(8,6), \n",
        "                 plot={\"Accuracy\":['accuracy','val_accuracy'], 'Loss':['loss', 'val_loss']},\n",
        "                 save_as='auto'):\n",
        "    \"\"\"\n",
        "    Show history\n",
        "    args:\n",
        "        history: history\n",
        "        figsize: fig size\n",
        "        plot: list of data to plot : {<title>:[<metrics>,...], ...}\n",
        "    \"\"\"\n",
        "    fig_id=0\n",
        "    for title,curves in plot.items():\n",
        "        plt.figure(figsize=figsize)\n",
        "        plt.title(title)\n",
        "        plt.ylabel(title)\n",
        "        plt.xlabel('Epoch')\n",
        "        for c in curves:\n",
        "            plt.plot(history.history[c])\n",
        "        plt.legend(curves, loc='upper left')\n",
        "        if save_as=='auto':\n",
        "            figname='auto'\n",
        "        else:\n",
        "            figname=f'{save_as}_{fig_id}'\n",
        "            fig_id+=1\n",
        "        plt.show()\n",
        "\n",
        "def plot_confusion_matrix(y_true,y_pred,\n",
        "                          target_names,\n",
        "                          title='Confusion matrix',\n",
        "                          cmap=None,\n",
        "                          normalize=True,\n",
        "                          figsize=(10, 8),\n",
        "                          digit_format='{:0.2f}',\n",
        "                          save_as='auto'):\n",
        "    \"\"\"\n",
        "    given a sklearn confusion matrix (cm), make a nice plot\n",
        "\n",
        "    Arguments\n",
        "    ---------\n",
        "    cm:           confusion matrix from sklearn.metrics.confusion_matrix\n",
        "\n",
        "    target_names: given classification classes such as [0, 1, 2]\n",
        "                  the class names, for example: ['high', 'medium', 'low']\n",
        "\n",
        "    title:        the text to display at the top of the matrix\n",
        "\n",
        "    cmap:         the gradient of the values displayed from matplotlib.pyplot.cm\n",
        "                  see http://matplotlib.org/examples/color/colormaps_reference.html\n",
        "                  plt.get_cmap('jet') or plt.cm.Blues\n",
        "\n",
        "    normalize:    If False, plot the raw numbers\n",
        "                  If True, plot the proportions\n",
        "\n",
        "    Citiation\n",
        "    ---------\n",
        "    http://scikit-learn.org/stable/auto_examples/model_selection/plot_confusion_matrix.html\n",
        "\n",
        "    \"\"\"\n",
        "    cm = confusion_matrix( y_true,y_pred, normalize=None, labels=target_names)\n",
        "    \n",
        "    accuracy = np.trace(cm) / float(np.sum(cm))\n",
        "    misclass = 1 - accuracy\n",
        "\n",
        "    if cmap is None:\n",
        "        cmap = plt.get_cmap('Blues')\n",
        "\n",
        "    plt.figure(figsize=figsize)\n",
        "    plt.imshow(cm, interpolation='nearest', cmap=cmap)\n",
        "    plt.title(title)\n",
        "    plt.colorbar()\n",
        "\n",
        "    if target_names is not None:\n",
        "        tick_marks = np.arange(len(target_names))\n",
        "        plt.xticks(tick_marks, target_names, rotation=90)\n",
        "        plt.yticks(tick_marks, target_names)\n",
        "\n",
        "    if normalize:\n",
        "        cm = cm.astype('float') / cm.sum(axis=1)[:, np.newaxis]\n",
        "\n",
        "\n",
        "    thresh = cm.max() / 1.5 if normalize else cm.max() / 2\n",
        "    for i, j in itertools.product(range(cm.shape[0]), range(cm.shape[1])):\n",
        "        if normalize:\n",
        "            plt.text(j, i, digit_format.format(cm[i, j]),\n",
        "                     horizontalalignment=\"center\",\n",
        "                     color=\"white\" if cm[i, j] > thresh else \"black\")\n",
        "        else:\n",
        "            plt.text(j, i, \"{:,}\".format(cm[i, j]),\n",
        "                     horizontalalignment=\"center\",\n",
        "                     color=\"white\" if cm[i, j] > thresh else \"black\")\n",
        "\n",
        "    plt.tight_layout()\n",
        "    plt.ylabel('True label')\n",
        "    plt.xlabel('Predicted label\\naccuracy={:0.4f}; misclass={:0.4f}'.format(accuracy, misclass))\n",
        "    plt.show()\n",
        "\n",
        "\n",
        "    \n",
        "def display_confusion_matrix(y_true,y_pred,labels=None,color='green',\n",
        "                             font_size='12pt'):\n",
        "    \"\"\"\n",
        "    Show a confusion matrix for a predictions.\n",
        "    see : sklearn.metrics.confusion_matrix\n",
        "\n",
        "    Args:\n",
        "        y_true:       Real classes\n",
        "        y_pred:       Predicted classes\n",
        "        labels:       List of classes to show in the cm\n",
        "        color:        Color for the palette (green)\n",
        "        font_size:    Values font size \n",
        "        title:        the text to display at the top of the matrix        \n",
        "    \"\"\"\n",
        "    assert (labels!=None),\"Label must be set\"\n",
        "    \n",
        "    \n",
        "    cm = confusion_matrix( y_true,y_pred, normalize=\"true\", labels=labels)\n",
        "    df=pd.DataFrame(cm)\n",
        "\n",
        "#     cmap = sn.light_palette(color, as_cmap=True)\n",
        "\n",
        "    colorsList = ['whitesmoke','bisque']\n",
        "    cmap = matplotlib.colors.ListedColormap(colorsList)\n",
        "    cmap = matplotlib.colors.ListedColormap(cmap(np.linspace(0, 1, 256)))\n",
        "\n",
        "    df.style.set_properties(**{'font-size': '20pt'})\n",
        "    display(df.style.format('{:.2f}') \\\n",
        "            .background_gradient(cmap=cmap)\n",
        "            .set_properties(**{'font-size': font_size}))\n",
        "    \n",
        "\n",
        "def plot_donut(values, labels, colors=[\"lightsteelblue\",\"coral\"], figsize=(6,6), title=None):\n",
        "    \"\"\"\n",
        "    Draw a donut\n",
        "    args:\n",
        "        values   : list of values\n",
        "        labels   : list of labels\n",
        "        colors   : list of color ([\"lightsteelblue\",\"coral\"])\n",
        "        figsize  : size of figure ( (6,6) )\n",
        "    return:\n",
        "        nothing\n",
        "    \"\"\"\n",
        "    # ---- Title or not\n",
        "    if title != None :  display(Markdown(title))\n",
        "    # ---- Donut\n",
        "    plt.figure(figsize=figsize)\n",
        "    # ---- Draw a pie  chart..\n",
        "    plt.pie(values, labels=labels, \n",
        "            colors = colors, autopct='%1.1f%%', startangle=70, pctdistance=0.85,\n",
        "            textprops={'fontsize': 18},\n",
        "            wedgeprops={\"edgecolor\":\"w\",'linewidth': 5, 'linestyle': 'solid', 'antialiased': True})\n",
        "    # ---- ..with a white circle\n",
        "    circle = plt.Circle((0,0),0.70,fc='white')\n",
        "    ax = plt.gca()\n",
        "    ax.add_artist(circle)\n",
        "    # Equal aspect ratio ensures that pie is drawn as a circle\n",
        "    plt.axis('equal')  \n",
        "    plt.tight_layout()\n",
        "    plt.show()\n",
        "\n",
        "def rmax(l):\n",
        "    \"\"\"\n",
        "    Recursive max() for a given iterable of iterables\n",
        "    Should be np.array of np.array or list of list, etc.\n",
        "    args:\n",
        "        l : Iterable of iterables\n",
        "    return: \n",
        "        max value\n",
        "    \"\"\"\n",
        "    maxi = float('-inf')\n",
        "    for item in l:\n",
        "        if isinstance(item, Iterable):\n",
        "\n",
        "            t = rmax(item)\n",
        "        else:\n",
        "            t = item\n",
        "        if t > maxi:\n",
        "            maxi = t\n",
        "    return maxi\n",
        "\n",
        "def rmin(l):\n",
        "    \"\"\"\n",
        "    Recursive min() for a given iterable of iterables\n",
        "    Should be np.array of np.array or list of list, etc.\n",
        "    args:\n",
        "        l : Iterable of iterables\n",
        "    return: \n",
        "        min value\n",
        "    \"\"\"\n",
        "    mini = float('inf')\n",
        "    for item in l:\n",
        "        if isinstance(item, Iterable):\n",
        "            t = rmin(item)\n",
        "        else:\n",
        "            t = item\n",
        "        if t < mini:\n",
        "            mini = t\n",
        "    return mini\n",
        "\n"
      ],
      "metadata": {
        "cellView": "form",
        "id": "NcpyRG8RjTTA"
      },
      "execution_count": null,
      "outputs": []
    },
    {
      "cell_type": "markdown",
      "metadata": {
        "id": "ntzfkHhci8Wz"
      },
      "source": [
        "### 1.2 - Parameters\n",
        "The words in the vocabulary are classified from the most frequent to the rarest.  \n",
        "`vocab_size` is the number of words we will remember in our vocabulary (the other words will be considered as unknown).  \n",
        "`review_len` is the review length  \n",
        "`dictionaries_dir` is where we will go to save our dictionaries. (./data is a good choice)"
      ]
    },
    {
      "cell_type": "code",
      "execution_count": null,
      "metadata": {
        "id": "4EoHgUo2i8W0"
      },
      "outputs": [],
      "source": [
        "vocab_size           = 10000\n",
        "review_len           = 256\n",
        "\n",
        "dictionaries_dir     = '.'\n",
        "\n",
        "hide_most_frequently = 0\n",
        "\n",
        "review_len           = 256\n",
        "dense_vector_size    = 16\n",
        "\n",
        "epochs               = 30\n",
        "batch_size           = 512\n",
        "\n",
        "output_dir           = '.'\n",
        "fit_verbosity        = 1"
      ]
    },
    {
      "cell_type": "markdown",
      "metadata": {
        "id": "jHXHOAvSi8W2"
      },
      "source": [
        "## Step 2 - Get the embedding vectors !"
      ]
    },
    {
      "cell_type": "markdown",
      "source": [
        "Step 1 : Preparing the data"
      ],
      "metadata": {
        "id": "UGDQ__6EjkND"
      }
    },
    {
      "cell_type": "code",
      "source": [
        "reviews = [ \"This film is particularly nice, a must see.\",\n",
        "             \"This film is a great classic that cannot be ignored.\",\n",
        "             \"I don't remember ever having seen such a movie...\",\n",
        "             \"This movie is just abominable and doesn't deserve to be seen!\"]\n",
        "\n",
        "# get dataset\n",
        "(x_train, y_train), (x_test, y_test) = imdb.load_data( num_words=vocab_size, skip_top=hide_most_frequently, seed= 42,)\n",
        "\n",
        "y_train = np.asarray(y_train).astype('float32')\n",
        "y_test  = np.asarray(y_test ).astype('float32')\n",
        "\n",
        "# ---- Retrieve dictionary {word:index}, and encode it in ascii\n",
        "#      Shift the dictionary from +3\n",
        "#      Add <pad>, <start> and <unknown> tags\n",
        "#      Create a reverse dictionary : {index:word}\n",
        "#\n",
        "word_index = imdb.get_word_index()\n",
        "word_index = {w:(i+3) for w,i in word_index.items()}\n",
        "word_index.update( {'<pad>':0, '<start>':1, '<unknown>':2, '<undef>':3,} )\n",
        "index_word = {index:word for word,index in word_index.items()} \n",
        "\n",
        "# ---- A nice function to transpose :\n",
        "#\n",
        "def dataset2text(review):\n",
        "    return ' '.join([index_word.get(i, '?') for i in review])\n",
        "\n",
        "#preprocess the data\n",
        "x_train = keras.preprocessing.sequence.pad_sequences(x_train,\n",
        "                                                     value   = 0,\n",
        "                                                     padding = 'post',\n",
        "                                                     maxlen  = review_len)\n",
        "\n",
        "x_test  = keras.preprocessing.sequence.pad_sequences(x_test,\n",
        "                                                     value   = 0 ,\n",
        "                                                     padding = 'post',\n",
        "                                                     maxlen  = review_len)\n",
        "\n",
        "print('After padding :')\n",
        "print(x_train[12])\n",
        "\n",
        "# ---- Write dataset in a h5 file, could be usefull\n",
        "#\n",
        "\n",
        "with h5py.File(f'{output_dir}/dataset_imdb.h5', 'w') as f:\n",
        "    f.create_dataset(\"x_train\",    data=x_train)\n",
        "    f.create_dataset(\"y_train\",    data=y_train)\n",
        "    f.create_dataset(\"x_test\",     data=x_test)\n",
        "    f.create_dataset(\"y_test\",     data=y_test)\n",
        "\n",
        "with open(f'{output_dir}/word_index.json', 'w') as fp:\n",
        "    json.dump(word_index, fp)\n",
        "\n",
        "with open(f'{output_dir}/index_word.json', 'w') as fp:\n",
        "    json.dump(index_word, fp)\n",
        "\n",
        "with open(f'{dictionaries_dir}/word_index.json', 'r') as fp:\n",
        "    word_index = json.load(fp)\n",
        "    word_index = { w:int(i) for w,i in word_index.items() }\n",
        "    print('Loaded. ', len(word_index), 'entries in word_index' )\n",
        "    index_word = { i:w      for w,i in word_index.items() }\n",
        "    print('Loaded. ', len(index_word), 'entries in index_word' )\n",
        "\n",
        "nb_reviews = len(reviews)\n",
        "x_data     = []\n",
        "\n",
        "# ---- For all reviews\n",
        "for review in reviews:\n",
        "    print('Words are : ', end='')\n",
        "    # ---- First index must be <start>\n",
        "    index_review=[1]\n",
        "    print('1 ', end='')\n",
        "    # ---- For all words\n",
        "    for w in review.split(' '):\n",
        "        # ---- Clean it\n",
        "        w_clean = re.sub(r\"[^a-zA-Z0-9]\", \"\", w)\n",
        "        # ---- Not empty ?\n",
        "        if len(w_clean)>0:\n",
        "            # ---- Get the index\n",
        "            w_index = word_index.get(w,2)\n",
        "            if w_index>vocab_size : w_index=2\n",
        "            # ---- Add the index if < vocab_size\n",
        "            index_review.append(w_index)\n",
        "            print(f'{w_index} ', end='')\n",
        "    # ---- Add the indexed review\n",
        "    x_data.append(index_review)\n",
        "    print()\n",
        "\n",
        "# ---- Padding\n",
        "x_data = keras.preprocessing.sequence.pad_sequences(x_data, value   = 0, padding = 'post', maxlen  = review_len)\n",
        "\n",
        "def get_model(vocab_size=10000, dense_vector_size=32, review_len=256):\n",
        "    \n",
        "    model = keras.Sequential()\n",
        "    model.add(keras.layers.Input( shape=(review_len,) ))\n",
        "    model.add(keras.layers.Embedding(input_dim    = vocab_size, \n",
        "                                     output_dim   = dense_vector_size, \n",
        "                                     input_length = review_len))\n",
        "    model.add(keras.layers.GlobalAveragePooling1D())\n",
        "    model.add(keras.layers.Dense(dense_vector_size, activation='relu'))\n",
        "    model.add(keras.layers.Dense(1,                 activation='sigmoid'))\n",
        "\n",
        "    model.compile(optimizer = 'adam',\n",
        "                  loss      = 'binary_crossentropy',\n",
        "                  metrics   = ['accuracy'])\n",
        "    return model\n",
        "\n",
        "model = get_model(vocab_size, dense_vector_size, review_len)\n",
        "\n",
        "os.makedirs(f'{run_dir}/models',   mode=0o750, exist_ok=True)\n",
        "save_dir = f'{run_dir}/models/best_model.h5'\n",
        "savemodel_callback = tf.keras.callbacks.ModelCheckpoint(filepath=save_dir, verbose=0, save_best_only=True)\n",
        "\n",
        "\n",
        "history = model.fit(x_train,\n",
        "                    y_train,\n",
        "                    epochs          = epochs,\n",
        "                    batch_size      = batch_size,\n",
        "                    validation_data = (x_test, y_test),\n",
        "                    verbose         = fit_verbosity,\n",
        "                    callbacks       = [savemodel_callback])"
      ],
      "metadata": {
        "id": "uDBejGotjmQk"
      },
      "execution_count": null,
      "outputs": []
    },
    {
      "cell_type": "markdown",
      "metadata": {
        "id": "qNiXUL82i8W2"
      },
      "source": [
        "### 2.1 - Load model and dictionaries"
      ]
    },
    {
      "cell_type": "code",
      "execution_count": null,
      "metadata": {
        "id": "94DuZhNwi8W3"
      },
      "outputs": [],
      "source": [
        "model = keras.models.load_model(f'{run_dir}/models/best_model.h5')\n",
        "print('Model loaded.')\n",
        "\n",
        "with open(f'{dictionaries_dir}/index_word.json', 'r') as fp:\n",
        "    index_word = json.load(fp)\n",
        "    index_word = { int(i):w for i,w in index_word.items() }\n",
        "    word_index = { w:int(i) for i,w in index_word.items() }\n",
        "    print('Dictionary loaded.')"
      ]
    },
    {
      "cell_type": "markdown",
      "metadata": {
        "id": "68GF9aqbi8W4"
      },
      "source": [
        "### 2.2 - Retrieve embeddings"
      ]
    },
    {
      "cell_type": "code",
      "execution_count": null,
      "metadata": {
        "id": "k0XpOo5Oi8W4"
      },
      "outputs": [],
      "source": [
        "embeddings = model.layers[0].get_weights()[0]\n",
        "print('Shape of embeddings : ',embeddings.shape)"
      ]
    },
    {
      "cell_type": "markdown",
      "metadata": {
        "id": "srvXoD3-i8W5"
      },
      "source": [
        "### 2.3 - Build a nice dictionary"
      ]
    },
    {
      "cell_type": "code",
      "execution_count": null,
      "metadata": {
        "id": "o25VnDBDi8W5"
      },
      "outputs": [],
      "source": [
        "word_embedding = { index_word[i]:embeddings[i] for i in range(vocab_size) }"
      ]
    },
    {
      "cell_type": "markdown",
      "metadata": {
        "id": "iB_QZGMsi8W5"
      },
      "source": [
        "## Step 3 - Have a look !\n",
        "#### Show embedding of a word :"
      ]
    },
    {
      "cell_type": "code",
      "execution_count": null,
      "metadata": {
        "id": "Iv6QOrK8i8W6"
      },
      "outputs": [],
      "source": [
        "word_embedding['nice']"
      ]
    },
    {
      "cell_type": "markdown",
      "metadata": {
        "id": "dZi6YcNbi8W6"
      },
      "source": [
        "#### Few usefull functions to play with"
      ]
    },
    {
      "cell_type": "code",
      "execution_count": null,
      "metadata": {
        "id": "E1rQHgc_i8W6"
      },
      "outputs": [],
      "source": [
        "# Return a l2 distance between 2 words\n",
        "#\n",
        "def l2w(w1,w2):\n",
        "    v1=word_embedding[w1]\n",
        "    v2=word_embedding[w2]\n",
        "    return np.linalg.norm(v2-v1)\n",
        "\n",
        "# Show distance between 2 words \n",
        "#\n",
        "def show_l2(w1,w2):\n",
        "    print(f'\\nL2 between [{w1}] and [{w2}] : ',l2w(w1,w2))\n",
        "\n",
        "# Displays the 15 closest words to a given word\n",
        "#\n",
        "def neighbors(w1):\n",
        "    v1=word_embedding[w1]\n",
        "    dd={}\n",
        "    for i in range(4, 1000):\n",
        "        w2=index_word[i]\n",
        "        dd[w2]=l2w(w1,w2)\n",
        "    dd= {k: v for k, v in sorted(dd.items(), key=lambda item: item[1])}\n",
        "    print(f'\\nNeighbors of [{w1}] : ', list(dd.keys())[1:15])\n",
        "    "
      ]
    },
    {
      "cell_type": "markdown",
      "metadata": {
        "id": "aU5A7p8Ei8W7"
      },
      "source": [
        "#### Examples"
      ]
    },
    {
      "cell_type": "code",
      "execution_count": null,
      "metadata": {
        "id": "DihlUr5ai8W7"
      },
      "outputs": [],
      "source": [
        "show_l2('nice', 'pleasant')\n",
        "show_l2('nice', 'horrible')\n",
        "\n",
        "neighbors('horrible')\n",
        "neighbors('great')\n"
      ]
    },
    {
      "cell_type": "markdown",
      "metadata": {
        "id": "lpIfsyXli8W8"
      },
      "source": [
        "* Exercice extrait de la formation FIDLE https://gricad-gitlab.univ-grenoble-alpes.fr/talks/fidle"
      ]
    },
    {
      "cell_type": "code",
      "source": [
        ""
      ],
      "metadata": {
        "id": "aXXfTbLzkiDZ"
      },
      "execution_count": null,
      "outputs": []
    }
  ],
  "metadata": {
    "kernelspec": {
      "display_name": "Python 3",
      "language": "python",
      "name": "python3"
    },
    "language_info": {
      "codemirror_mode": {
        "name": "ipython",
        "version": 3
      },
      "file_extension": ".py",
      "mimetype": "text/x-python",
      "name": "python",
      "nbconvert_exporter": "python",
      "pygments_lexer": "ipython3",
      "version": "3.8.5"
    },
    "colab": {
      "name": "04-Show-vectors.ipynb",
      "provenance": []
    },
    "accelerator": "GPU"
  },
  "nbformat": 4,
  "nbformat_minor": 0
}