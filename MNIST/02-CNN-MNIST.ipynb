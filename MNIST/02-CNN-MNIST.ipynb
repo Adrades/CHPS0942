{
  "nbformat": 4,
  "nbformat_minor": 0,
  "metadata": {
    "kernelspec": {
      "display_name": "Python 3",
      "language": "python",
      "name": "python3"
    },
    "language_info": {
      "codemirror_mode": {
        "name": "ipython",
        "version": 3
      },
      "file_extension": ".py",
      "mimetype": "text/x-python",
      "name": "python",
      "nbconvert_exporter": "python",
      "pygments_lexer": "ipython3",
      "version": "3.8.5"
    },
    "colab": {
      "name": "02-CNN-MNIST.ipynb",
      "provenance": []
    },
    "accelerator": "GPU"
  },
  "cells": [
    {
      "cell_type": "code",
      "metadata": {
        "id": "cvVXU3H9bRJb"
      },
      "source": [
        "!git clone https://github.com/lsteffenel/CHPS0942 ; mv CHPS0942/fidle ."
      ],
      "execution_count": null,
      "outputs": []
    },
    {
      "cell_type": "markdown",
      "metadata": {
        "id": "4iBhC26_bQHy"
      },
      "source": [
        "<img width=\"800px\" src=\"https://github.com/lsteffenel/CHPS0942/blob/main/fidle/img/00-Fidle-header-01.svg?raw=1\"></img>\n",
        "\n",
        "# <!-- TITLE --> [MNIST2] - Simple classification with CNN\n",
        "<!-- DESC --> An example of classification using a convolutional neural network for the famous MNIST dataset\n",
        "<!-- AUTHOR : Jean-Luc Parouty (CNRS/SIMaP) -->\n",
        "\n",
        "## Objectives :\n",
        " - Recognizing handwritten numbers\n",
        " - Understanding the principle of a classifier DNN network \n",
        " - Implementation with Keras \n",
        "\n",
        "\n",
        "The [MNIST dataset](http://yann.lecun.com/exdb/mnist/) (Modified National Institute of Standards and Technology) is a must for Deep Learning.  \n",
        "It consists of 60,000 small images of handwritten numbers for learning and 10,000 for testing.\n",
        "\n",
        "\n",
        "## What we're going to do :\n",
        "\n",
        " - Retrieve data\n",
        " - Preparing the data\n",
        " - Create a model\n",
        " - Train the model\n",
        " - Evaluate the result\n"
      ]
    },
    {
      "cell_type": "markdown",
      "metadata": {
        "id": "i8jx4qX1bQH3"
      },
      "source": [
        "## Step 1 - Init python stuff"
      ]
    },
    {
      "cell_type": "code",
      "metadata": {
        "id": "7T558x28bQH3"
      },
      "source": [
        "# import os\n",
        "# os.environ['TF_CPP_MIN_LOG_LEVEL'] = '2'\n",
        "\n",
        "import tensorflow as tf\n",
        "from tensorflow import keras\n",
        "\n",
        "import numpy as np\n",
        "import matplotlib.pyplot as plt\n",
        "import sys,os\n",
        "from importlib import reload\n",
        "\n",
        "sys.path.append('..')\n",
        "import fidle.pwk as pwk\n",
        "\n",
        "datasets_dir = pwk.init('MNIST1')"
      ],
      "execution_count": null,
      "outputs": []
    },
    {
      "cell_type": "markdown",
      "metadata": {
        "id": "NT3CTaVXbQH5"
      },
      "source": [
        "Verbosity during training : 0 = silent, 1 = progress bar, 2 = one line per epoch"
      ]
    },
    {
      "cell_type": "code",
      "metadata": {
        "id": "lpG45wUybQH5"
      },
      "source": [
        "fit_verbosity = 1"
      ],
      "execution_count": null,
      "outputs": []
    },
    {
      "cell_type": "markdown",
      "metadata": {
        "id": "dBnXFODQbQH6"
      },
      "source": [
        "Override parameters (batch mode) - Just forget this cell"
      ]
    },
    {
      "cell_type": "code",
      "metadata": {
        "id": "TB_4Yf92bQH6"
      },
      "source": [
        "pwk.override('fit_verbosity')"
      ],
      "execution_count": null,
      "outputs": []
    },
    {
      "cell_type": "markdown",
      "metadata": {
        "id": "t69pEPa9bQH7"
      },
      "source": [
        "## Step 2 - Retrieve data\n",
        "MNIST is one of the most famous historic dataset.  \n",
        "Include in [Keras datasets](https://www.tensorflow.org/api_docs/python/tf/keras/datasets)"
      ]
    },
    {
      "cell_type": "code",
      "metadata": {
        "id": "8K5fdAkRbQH8"
      },
      "source": [
        "(x_train, y_train), (x_test, y_test) = keras.datasets.mnist.load_data()\n",
        "\n",
        "x_train = x_train.reshape(-1,28,28,1)\n",
        "x_test  = x_test.reshape(-1,28,28,1)\n",
        "\n",
        "print(\"x_train : \",x_train.shape)\n",
        "print(\"y_train : \",y_train.shape)\n",
        "print(\"x_test  : \",x_test.shape)\n",
        "print(\"y_test  : \",y_test.shape)"
      ],
      "execution_count": null,
      "outputs": []
    },
    {
      "cell_type": "markdown",
      "metadata": {
        "id": "giNQx2E0bQH8"
      },
      "source": [
        "## Step 3 - Preparing the data"
      ]
    },
    {
      "cell_type": "code",
      "metadata": {
        "id": "RAYcJhJAbQH9"
      },
      "source": [
        "print('Before normalization : Min={}, max={}'.format(x_train.min(),x_train.max()))\n",
        "\n",
        "xmax=x_train.max()\n",
        "x_train = x_train / xmax\n",
        "x_test  = x_test  / xmax\n",
        "\n",
        "print('After normalization  : Min={}, max={}'.format(x_train.min(),x_train.max()))"
      ],
      "execution_count": null,
      "outputs": []
    },
    {
      "cell_type": "markdown",
      "metadata": {
        "id": "cp_aZWRbbQH9"
      },
      "source": [
        "### Have a look"
      ]
    },
    {
      "cell_type": "code",
      "metadata": {
        "id": "caN2eFXqbQH-"
      },
      "source": [
        "pwk.plot_images(x_train, y_train, [27],  x_size=5,y_size=5, colorbar=True, save_as='01-one-digit')\n",
        "pwk.plot_images(x_train, y_train, range(5,41), columns=12, save_as='02-many-digits')"
      ],
      "execution_count": null,
      "outputs": []
    },
    {
      "cell_type": "markdown",
      "metadata": {
        "id": "tAWA64fabQH-"
      },
      "source": [
        "## Step 4 - Create model\n",
        "About informations about : \n",
        " - [Optimizer](https://www.tensorflow.org/api_docs/python/tf/keras/optimizers)\n",
        " - [Activation](https://www.tensorflow.org/api_docs/python/tf/keras/activations)\n",
        " - [Loss](https://www.tensorflow.org/api_docs/python/tf/keras/losses)\n",
        " - [Metrics](https://www.tensorflow.org/api_docs/python/tf/keras/metrics)"
      ]
    },
    {
      "cell_type": "code",
      "metadata": {
        "id": "bogkzoiAbQH_"
      },
      "source": [
        "model = keras.models.Sequential()\n",
        "\n",
        "model.add( keras.layers.Input((28,28,1)) )\n",
        "\n",
        "model.add( keras.layers.Conv2D(8, (3,3),  activation='relu') )\n",
        "model.add( keras.layers.MaxPooling2D((2,2)))\n",
        "model.add( keras.layers.Dropout(0.2))\n",
        "\n",
        "model.add( keras.layers.Conv2D(16, (3,3), activation='relu') )\n",
        "model.add( keras.layers.MaxPooling2D((2,2)))\n",
        "model.add( keras.layers.Dropout(0.2))\n",
        "\n",
        "model.add( keras.layers.Flatten()) \n",
        "model.add( keras.layers.Dense(100, activation='relu'))\n",
        "model.add( keras.layers.Dropout(0.5))\n",
        "\n",
        "model.add( keras.layers.Dense(10, activation='softmax'))"
      ],
      "execution_count": null,
      "outputs": []
    },
    {
      "cell_type": "code",
      "metadata": {
        "id": "vHjakjDkbQH_"
      },
      "source": [
        "model.summary()\n",
        "\n",
        "model.compile(optimizer='adam',\n",
        "              loss='sparse_categorical_crossentropy',\n",
        "              metrics=['accuracy'])"
      ],
      "execution_count": null,
      "outputs": []
    },
    {
      "cell_type": "markdown",
      "metadata": {
        "id": "zAUHRWELbQH_"
      },
      "source": [
        "## Step 5 - Train the model"
      ]
    },
    {
      "cell_type": "code",
      "metadata": {
        "id": "0lX4yqDBbQIA"
      },
      "source": [
        "batch_size  = 512\n",
        "epochs      =  16\n",
        "\n",
        "history = model.fit(  x_train, y_train,\n",
        "                      batch_size      = batch_size,\n",
        "                      epochs          = epochs,\n",
        "                      verbose         = fit_verbosity,\n",
        "                      validation_data = (x_test, y_test))"
      ],
      "execution_count": null,
      "outputs": []
    },
    {
      "cell_type": "markdown",
      "metadata": {
        "id": "Fyg4rSiObQIA"
      },
      "source": [
        "## Step 6 - Evaluate\n",
        "### 6.1 - Final loss and accuracy\n",
        "Note : With a DNN, we had a precision of the order of : 97.7%"
      ]
    },
    {
      "cell_type": "code",
      "metadata": {
        "id": "grrUG8fDbQIA"
      },
      "source": [
        "score = model.evaluate(x_test, y_test, verbose=0)\n",
        "\n",
        "print(f'Test loss     : {score[0]:4.4f}')\n",
        "print(f'Test accuracy : {score[1]:4.4f}')"
      ],
      "execution_count": null,
      "outputs": []
    },
    {
      "cell_type": "markdown",
      "metadata": {
        "id": "jiCIpfLybQIB"
      },
      "source": [
        "### 6.2 - Plot history"
      ]
    },
    {
      "cell_type": "code",
      "metadata": {
        "id": "mU1we7aDbQIB"
      },
      "source": [
        "pwk.plot_history(history, figsize=(6,4), save_as='03-history')"
      ],
      "execution_count": null,
      "outputs": []
    },
    {
      "cell_type": "markdown",
      "metadata": {
        "id": "7AkgcDbrbQIB"
      },
      "source": [
        "### 6.3 - Plot results"
      ]
    },
    {
      "cell_type": "code",
      "metadata": {
        "id": "q6PDZ36dbQIB"
      },
      "source": [
        "#y_pred   = model.predict_classes(x_test)           Deprecated after 01/01/2021 !!\n",
        "\n",
        "y_sigmoid = model.predict(x_test)\n",
        "y_pred    = np.argmax(y_sigmoid, axis=-1)\n",
        "\n",
        "pwk.plot_images(x_test, y_test, range(0,200), columns=12, x_size=1, y_size=1, y_pred=y_pred, save_as='04-predictions')"
      ],
      "execution_count": null,
      "outputs": []
    },
    {
      "cell_type": "markdown",
      "metadata": {
        "id": "fU46r6cBbQIC"
      },
      "source": [
        "### 6.4 - Plot some errors"
      ]
    },
    {
      "cell_type": "code",
      "metadata": {
        "id": "lkFnbCGdbQIC"
      },
      "source": [
        "errors=[ i for i in range(len(x_test)) if y_pred[i]!=y_test[i] ]\n",
        "errors=errors[:min(24,len(errors))]\n",
        "pwk.plot_images(x_test, y_test, errors[:15], columns=6, x_size=2, y_size=2, y_pred=y_pred, save_as='05-some-errors')"
      ],
      "execution_count": null,
      "outputs": []
    },
    {
      "cell_type": "code",
      "metadata": {
        "id": "H6FeBxBqbQIC"
      },
      "source": [
        "pwk.plot_confusion_matrix(y_test,y_pred,range(10),normalize=True, save_as='06-confusion-matrix')"
      ],
      "execution_count": null,
      "outputs": []
    },
    {
      "cell_type": "code",
      "metadata": {
        "id": "IPmjQC5HbQIC"
      },
      "source": [
        "pwk.end()"
      ],
      "execution_count": null,
      "outputs": []
    },
    {
      "cell_type": "markdown",
      "metadata": {
        "id": "odHLIO09bQIC"
      },
      "source": [
        "<div class=\"todo\">\n",
        "    A few things you can do for fun:\n",
        "    <ul>\n",
        "        <li>Changing the network architecture (layers, number of neurons, etc.)</li>\n",
        "        <li>Display a summary of the network</li>\n",
        "        <li>Retrieve and display the softmax output of the network, to evaluate its \"doubts\".</li>\n",
        "    </ul>\n",
        "</div>"
      ]
    },
    {
      "cell_type": "markdown",
      "metadata": {
        "id": "Fd8Q_GgNbQID"
      },
      "source": [
        "---\n",
        "<img width=\"80px\" src=\"https://github.com/lsteffenel/CHPS0942/blob/main/fidle/img/00-Fidle-logo-01.svg?raw=1\"></img>"
      ]
    }
  ]
}