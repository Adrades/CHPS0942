{
 "cells": [
  {
   "cell_type": "markdown",
   "id": "07859195-3159-4805-a796-de8a5bb3d704",
   "metadata": {},
   "source": [
    "\n",
    "## Jupyter notebooks\n",
    "\n",
    "<!-- INDEX_BEGIN -->\n",
    "\n",
    "### Linear and logistic regression\n",
    "- **[LINR1](LinearReg/01-Linear-Regression.ipynb)** - [Linear regression with direct resolution](LinearReg/01-Linear-Regression.ipynb)  \n",
    "Low-level implementation, using numpy, of a direct resolution for a linear regression\n",
    "- **[GRAD1](LinearReg/02-Gradient-descent.ipynb)** - [Linear regression with gradient descent](LinearReg/02-Gradient-descent.ipynb)  \n",
    "Low level implementation of a solution by gradient descent. Basic and stochastic approach.\n",
    "- **[POLR1](LinearReg/03-Polynomial-Regression.ipynb)** - [Complexity Syndrome](LinearReg/03-Polynomial-Regression.ipynb)  \n",
    "Illustration of the problem of complexity with the polynomial regression\n",
    "- **[LOGR1](LinearReg/04-Logistic-Regression.ipynb)** - [Logistic regression](LinearReg/04-Logistic-Regression.ipynb)  \n",
    "Simple example of logistic regression with a sklearn solution\n",
    "\n",
    "### Perceptron Model 1957\n",
    "- **[PER57](IRIS/01-Simple-Perceptron.ipynb)** - [Perceptron Model 1957](IRIS/01-Simple-Perceptron.ipynb)  \n",
    "Example of use of a Perceptron, with sklearn and IRIS dataset of 1936 !\n",
    "\n",
    "### Basic regression using DNN\n",
    "- **[BHPD1](BHPD/01-DNN-Regression.ipynb)** - [Regression with a Dense Network (DNN)](BHPD/01-DNN-Regression.ipynb)  \n",
    "Simple example of a regression with the dataset Boston Housing Prices Dataset (BHPD)\n",
    "- **[BHPD2](BHPD/02-DNN-Regression-Premium.ipynb)** - [Regression with a Dense Network (DNN) - Advanced code](BHPD/02-DNN-Regression-Premium.ipynb)  \n",
    "A more advanced implementation of the precedent example\n",
    "\n",
    "### Basic classification using a DNN\n",
    "- **[MNIST1](MNIST/01-DNN-MNIST.ipynb)** - [Simple classification with DNN](MNIST/01-DNN-MNIST.ipynb)  \n",
    "An example of classification using a dense neural network for the famous MNIST dataset\n",
    "\n",
    "\n",
    "\n",
    "\n",
    "## Installation\n",
    "\n",
    "Have a look about **[How to get and install](https://fidle.cnrs.fr/installation)** these notebooks and datasets.\n",
    "\n",
    "## Licence\n",
    "\n",
    "[<img width=\"100px\" src=\"fidle/img/00-fidle-CC BY-NC-SA.svg\"></img>](https://creativecommons.org/licenses/by-nc-sa/4.0/)  \n",
    "\\[en\\] Attribution - NonCommercial - ShareAlike 4.0 International (CC BY-NC-SA 4.0)  \n",
    "\\[Fr\\] Attribution - Pas d’Utilisation Commerciale - Partage dans les Mêmes Conditions 4.0 International  \n",
    "See [License](https://creativecommons.org/licenses/by-nc-sa/4.0/legalcode).  \n",
    "See [Disclaimer](https://creativecommons.org/licenses/by-nc-sa/4.0/#).  \n",
    "\n",
    "\n",
    "----\n",
    "[<img width=\"80px\" src=\"fidle/img/00-Fidle-logo-01.svg\"></img>](#top)\n"
   ]
  },
  {
   "cell_type": "code",
   "execution_count": null,
   "id": "a4ba9040-d3af-479d-9e60-dcc958c2b8dd",
   "metadata": {},
   "outputs": [],
   "source": []
  }
 ],
 "metadata": {
  "kernelspec": {
   "display_name": "Python 3 (ipykernel)",
   "language": "python",
   "name": "python3"
  },
  "language_info": {
   "codemirror_mode": {
    "name": "ipython",
    "version": 3
   },
   "file_extension": ".py",
   "mimetype": "text/x-python",
   "name": "python",
   "nbconvert_exporter": "python",
   "pygments_lexer": "ipython3",
   "version": "3.8.5"
  }
 },
 "nbformat": 4,
 "nbformat_minor": 5
}
