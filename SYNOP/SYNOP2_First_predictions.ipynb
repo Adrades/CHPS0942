{
  "cells": [
    {
      "cell_type": "markdown",
      "metadata": {
        "id": "xTumicp73a8B"
      },
      "source": [
        "# <!-- TITLE --> [SYNOP2] - First predictions at 3h\n",
        "<!-- DESC --> Episode 2 : RNN training session for weather prediction attempt at 3h\n",
        "<!-- AUTHOR : Jean-Luc Parouty (CNRS/SIMaP) -->\n",
        "\n",
        "## Objectives :\n",
        " - Make a simple prediction (3h)\n",
        " - Understanding the use of a recurrent neural network\n",
        "\n",
        "\n",
        "SYNOP meteorological data, available at: https://public.opendatasoft.com\n",
        "\n",
        "## What we're going to do :\n",
        "\n",
        " - Read our dataset\n",
        " - Select our data and normalize it\n",
        " - Doing our training\n",
        " - Making simple predictions\n",
        "\n",
        "## Step 1 - Import and init\n",
        "### 1.1 - Python"
      ]
    },
    {
      "cell_type": "code",
      "execution_count": null,
      "metadata": {
        "id": "WyYXmbQY3a8H"
      },
      "outputs": [],
      "source": [
        "import tensorflow as tf\n",
        "from tensorflow import keras\n",
        "from tensorflow.keras.callbacks import TensorBoard\n",
        "from tensorflow.keras.preprocessing.sequence import TimeseriesGenerator\n",
        "\n",
        "import numpy as np\n",
        "import math, random\n",
        "import matplotlib.pyplot as plt\n",
        "\n",
        "import pandas as pd\n",
        "import h5py, json\n",
        "import os,time,sys\n",
        "\n",
        "from importlib import reload\n",
        "\n",
        "run_dir = '.'\n"
      ]
    },
    {
      "cell_type": "code",
      "source": [
        "#@title\n",
        "\n",
        "from collections.abc import Iterable\n",
        "from sklearn.metrics import confusion_matrix\n",
        "import itertools\n",
        "import pandas as pd\n",
        "\n",
        "# -------------------------------------------------------------\n",
        "# show_images\n",
        "# -------------------------------------------------------------\n",
        "#\n",
        "def plot_images(x,y=None, indices='all', columns=12, x_size=1, y_size=1,\n",
        "                colorbar=False, y_pred=None, cm='binary', norm=None, y_padding=0.35, spines_alpha=1,\n",
        "                fontsize=20, interpolation='lanczos', save_as='auto'):\n",
        "    \"\"\"\n",
        "    Show some images in a grid, with legends\n",
        "    args:\n",
        "        x             : images - Shapes must be (-1,lx,ly) (-1,lx,ly,1) or (-1,lx,ly,3)\n",
        "        y             : real classes or labels or None (None)\n",
        "        indices       : indices of images to show or 'all' for all ('all')\n",
        "        columns       : number of columns (12)\n",
        "        x_size,y_size : figure size (1), (1)\n",
        "        colorbar      : show colorbar (False)\n",
        "        y_pred        : predicted classes (None)\n",
        "        cm            : Matplotlib color map (binary)\n",
        "        norm          : Matplotlib imshow normalization (None)\n",
        "        y_padding     : Padding / rows (0.35)\n",
        "        spines_alpha  : Spines alpha (1.)\n",
        "        font_size     : Font size in px (20)\n",
        "        save_as       : Filename to use if save figs is enable ('auto')\n",
        "    returns: \n",
        "        nothing\n",
        "    \"\"\"\n",
        "    if indices=='all': indices=range(len(x))\n",
        "    if norm and len(norm) == 2: norm = matplotlib.colors.Normalize(vmin=norm[0], vmax=norm[1])\n",
        "    draw_labels = (y is not None)\n",
        "    draw_pred   = (y_pred is not None)\n",
        "    rows        = math.ceil(len(indices)/columns)\n",
        "    fig=plt.figure(figsize=(columns*x_size, rows*(y_size+y_padding)))\n",
        "    n=1\n",
        "    for i in indices:\n",
        "        axs=fig.add_subplot(rows, columns, n)\n",
        "        n+=1\n",
        "        # ---- Shape is (lx,ly)\n",
        "        if len(x[i].shape)==2:\n",
        "            xx=x[i]\n",
        "        # ---- Shape is (lx,ly,n)\n",
        "        if len(x[i].shape)==3:\n",
        "            (lx,ly,lz)=x[i].shape\n",
        "            if lz==1: \n",
        "                xx=x[i].reshape(lx,ly)\n",
        "            else:\n",
        "                xx=x[i]\n",
        "        img=axs.imshow(xx,   cmap = cm, norm=norm, interpolation=interpolation)\n",
        "#         img=axs.imshow(xx,   cmap = cm, interpolation=interpolation)\n",
        "        axs.spines['right'].set_visible(True)\n",
        "        axs.spines['left'].set_visible(True)\n",
        "        axs.spines['top'].set_visible(True)\n",
        "        axs.spines['bottom'].set_visible(True)\n",
        "        axs.spines['right'].set_alpha(spines_alpha)\n",
        "        axs.spines['left'].set_alpha(spines_alpha)\n",
        "        axs.spines['top'].set_alpha(spines_alpha)\n",
        "        axs.spines['bottom'].set_alpha(spines_alpha)\n",
        "        axs.set_yticks([])\n",
        "        axs.set_xticks([])\n",
        "        if draw_labels and not draw_pred:\n",
        "            axs.set_xlabel(y[i],fontsize=fontsize)\n",
        "        if draw_labels and draw_pred:\n",
        "            if y[i]!=y_pred[i]:\n",
        "                axs.set_xlabel(f'{y_pred[i]} ({y[i]})',fontsize=fontsize)\n",
        "                axs.xaxis.label.set_color('red')\n",
        "            else:\n",
        "                axs.set_xlabel(y[i],fontsize=fontsize)\n",
        "        if colorbar:\n",
        "            fig.colorbar(img,orientation=\"vertical\", shrink=0.65)\n",
        "    plt.show()\n",
        "\n",
        "    \n",
        "def plot_image(x,cm='binary', figsize=(4,4),interpolation='lanczos', save_as='auto'):\n",
        "    \"\"\"\n",
        "    Draw a single image.\n",
        "    Image shape can be (lx,ly), (lx,ly,1) or (lx,ly,n)\n",
        "    args:\n",
        "        x       : image as np array\n",
        "        cm      : color map ('binary')\n",
        "        figsize : fig size (4,4)\n",
        "    \"\"\"\n",
        "    # ---- Shape is (lx,ly)\n",
        "    if len(x.shape)==2:\n",
        "        xx=x\n",
        "    # ---- Shape is (lx,ly,n)\n",
        "    if len(x.shape)==3:\n",
        "        (lx,ly,lz)=x.shape\n",
        "        if lz==1: \n",
        "            xx=x.reshape(lx,ly)\n",
        "        else:\n",
        "            xx=x\n",
        "    # ---- Draw it\n",
        "    plt.figure(figsize=figsize)\n",
        "    plt.imshow(xx,   cmap = cm, interpolation=interpolation)\n",
        "    plt.show()\n",
        "\n",
        "def plot_history(history, figsize=(8,6), \n",
        "                 plot={\"Accuracy\":['accuracy','val_accuracy'], 'Loss':['loss', 'val_loss']},\n",
        "                 save_as='auto'):\n",
        "    \"\"\"\n",
        "    Show history\n",
        "    args:\n",
        "        history: history\n",
        "        figsize: fig size\n",
        "        plot: list of data to plot : {<title>:[<metrics>,...], ...}\n",
        "    \"\"\"\n",
        "    fig_id=0\n",
        "    for title,curves in plot.items():\n",
        "        plt.figure(figsize=figsize)\n",
        "        plt.title(title)\n",
        "        plt.ylabel(title)\n",
        "        plt.xlabel('Epoch')\n",
        "        for c in curves:\n",
        "            plt.plot(history.history[c])\n",
        "        plt.legend(curves, loc='upper left')\n",
        "        if save_as=='auto':\n",
        "            figname='auto'\n",
        "        else:\n",
        "            figname=f'{save_as}_{fig_id}'\n",
        "            fig_id+=1\n",
        "        plt.show()\n",
        "\n",
        "def plot_confusion_matrix(y_true,y_pred,\n",
        "                          target_names,\n",
        "                          title='Confusion matrix',\n",
        "                          cmap=None,\n",
        "                          normalize=True,\n",
        "                          figsize=(10, 8),\n",
        "                          digit_format='{:0.2f}',\n",
        "                          save_as='auto'):\n",
        "    \"\"\"\n",
        "    given a sklearn confusion matrix (cm), make a nice plot\n",
        "\n",
        "    Arguments\n",
        "    ---------\n",
        "    cm:           confusion matrix from sklearn.metrics.confusion_matrix\n",
        "\n",
        "    target_names: given classification classes such as [0, 1, 2]\n",
        "                  the class names, for example: ['high', 'medium', 'low']\n",
        "\n",
        "    title:        the text to display at the top of the matrix\n",
        "\n",
        "    cmap:         the gradient of the values displayed from matplotlib.pyplot.cm\n",
        "                  see http://matplotlib.org/examples/color/colormaps_reference.html\n",
        "                  plt.get_cmap('jet') or plt.cm.Blues\n",
        "\n",
        "    normalize:    If False, plot the raw numbers\n",
        "                  If True, plot the proportions\n",
        "\n",
        "    Citiation\n",
        "    ---------\n",
        "    http://scikit-learn.org/stable/auto_examples/model_selection/plot_confusion_matrix.html\n",
        "\n",
        "    \"\"\"\n",
        "    cm = confusion_matrix( y_true,y_pred, normalize=None, labels=target_names)\n",
        "    \n",
        "    accuracy = np.trace(cm) / float(np.sum(cm))\n",
        "    misclass = 1 - accuracy\n",
        "\n",
        "    if cmap is None:\n",
        "        cmap = plt.get_cmap('Blues')\n",
        "\n",
        "    plt.figure(figsize=figsize)\n",
        "    plt.imshow(cm, interpolation='nearest', cmap=cmap)\n",
        "    plt.title(title)\n",
        "    plt.colorbar()\n",
        "\n",
        "    if target_names is not None:\n",
        "        tick_marks = np.arange(len(target_names))\n",
        "        plt.xticks(tick_marks, target_names, rotation=90)\n",
        "        plt.yticks(tick_marks, target_names)\n",
        "\n",
        "    if normalize:\n",
        "        cm = cm.astype('float') / cm.sum(axis=1)[:, np.newaxis]\n",
        "\n",
        "\n",
        "    thresh = cm.max() / 1.5 if normalize else cm.max() / 2\n",
        "    for i, j in itertools.product(range(cm.shape[0]), range(cm.shape[1])):\n",
        "        if normalize:\n",
        "            plt.text(j, i, digit_format.format(cm[i, j]),\n",
        "                     horizontalalignment=\"center\",\n",
        "                     color=\"white\" if cm[i, j] > thresh else \"black\")\n",
        "        else:\n",
        "            plt.text(j, i, \"{:,}\".format(cm[i, j]),\n",
        "                     horizontalalignment=\"center\",\n",
        "                     color=\"white\" if cm[i, j] > thresh else \"black\")\n",
        "\n",
        "    plt.tight_layout()\n",
        "    plt.ylabel('True label')\n",
        "    plt.xlabel('Predicted label\\naccuracy={:0.4f}; misclass={:0.4f}'.format(accuracy, misclass))\n",
        "    plt.show()\n",
        "\n",
        "\n",
        "    \n",
        "def display_confusion_matrix(y_true,y_pred,labels=None,color='green',\n",
        "                             font_size='12pt'):\n",
        "    \"\"\"\n",
        "    Show a confusion matrix for a predictions.\n",
        "    see : sklearn.metrics.confusion_matrix\n",
        "\n",
        "    Args:\n",
        "        y_true:       Real classes\n",
        "        y_pred:       Predicted classes\n",
        "        labels:       List of classes to show in the cm\n",
        "        color:        Color for the palette (green)\n",
        "        font_size:    Values font size \n",
        "        title:        the text to display at the top of the matrix        \n",
        "    \"\"\"\n",
        "    assert (labels!=None),\"Label must be set\"\n",
        "    \n",
        "    \n",
        "    cm = confusion_matrix( y_true,y_pred, normalize=\"true\", labels=labels)\n",
        "    df=pd.DataFrame(cm)\n",
        "\n",
        "#     cmap = sn.light_palette(color, as_cmap=True)\n",
        "\n",
        "    colorsList = ['whitesmoke','bisque']\n",
        "    cmap = matplotlib.colors.ListedColormap(colorsList)\n",
        "    cmap = matplotlib.colors.ListedColormap(cmap(np.linspace(0, 1, 256)))\n",
        "\n",
        "    df.style.set_properties(**{'font-size': '20pt'})\n",
        "    display(df.style.format('{:.2f}') \\\n",
        "            .background_gradient(cmap=cmap)\n",
        "            .set_properties(**{'font-size': font_size}))\n",
        "    \n",
        "\n",
        "def plot_donut(values, labels, colors=[\"lightsteelblue\",\"coral\"], figsize=(6,6), title=None):\n",
        "    \"\"\"\n",
        "    Draw a donut\n",
        "    args:\n",
        "        values   : list of values\n",
        "        labels   : list of labels\n",
        "        colors   : list of color ([\"lightsteelblue\",\"coral\"])\n",
        "        figsize  : size of figure ( (6,6) )\n",
        "    return:\n",
        "        nothing\n",
        "    \"\"\"\n",
        "    # ---- Title or not\n",
        "    if title != None :  display(Markdown(title))\n",
        "    # ---- Donut\n",
        "    plt.figure(figsize=figsize)\n",
        "    # ---- Draw a pie  chart..\n",
        "    plt.pie(values, labels=labels, \n",
        "            colors = colors, autopct='%1.1f%%', startangle=70, pctdistance=0.85,\n",
        "            textprops={'fontsize': 18},\n",
        "            wedgeprops={\"edgecolor\":\"w\",'linewidth': 5, 'linestyle': 'solid', 'antialiased': True})\n",
        "    # ---- ..with a white circle\n",
        "    circle = plt.Circle((0,0),0.70,fc='white')\n",
        "    ax = plt.gca()\n",
        "    ax.add_artist(circle)\n",
        "    # Equal aspect ratio ensures that pie is drawn as a circle\n",
        "    plt.axis('equal')  \n",
        "    plt.tight_layout()\n",
        "    plt.show()\n",
        "\n",
        "def rmax(l):\n",
        "    \"\"\"\n",
        "    Recursive max() for a given iterable of iterables\n",
        "    Should be np.array of np.array or list of list, etc.\n",
        "    args:\n",
        "        l : Iterable of iterables\n",
        "    return: \n",
        "        max value\n",
        "    \"\"\"\n",
        "    maxi = float('-inf')\n",
        "    for item in l:\n",
        "        if isinstance(item, Iterable):\n",
        "\n",
        "            t = rmax(item)\n",
        "        else:\n",
        "            t = item\n",
        "        if t > maxi:\n",
        "            maxi = t\n",
        "    return maxi\n",
        "\n",
        "def rmin(l):\n",
        "    \"\"\"\n",
        "    Recursive min() for a given iterable of iterables\n",
        "    Should be np.array of np.array or list of list, etc.\n",
        "    args:\n",
        "        l : Iterable of iterables\n",
        "    return: \n",
        "        min value\n",
        "    \"\"\"\n",
        "    mini = float('inf')\n",
        "    for item in l:\n",
        "        if isinstance(item, Iterable):\n",
        "            t = rmin(item)\n",
        "        else:\n",
        "            t = item\n",
        "        if t < mini:\n",
        "            mini = t\n",
        "    return mini\n",
        "\n",
        "     \n",
        "def np_print(*args, precision=3, linewidth=120):\n",
        "    with np.printoptions(precision=precision, linewidth=linewidth):\n",
        "        for a in args:\n",
        "            print(a)\n",
        "\n",
        "def plot_multivariate_serie(sequence, labels=None, predictions=None, only_features=None,\n",
        "    columns=3, width=5,height=4,wspace=0.3,hspace=0.2,ms=6,lw=1,\n",
        "    save_as='auto', time_dt=1, hide_ticks=False):\n",
        "    \n",
        "    sequence_len = len(sequence)\n",
        "    features_len = sequence.shape[1]\n",
        "    if only_features is None : only_features=range(features_len)\n",
        "    if labels is None        : labels=range(features_len)\n",
        "    \n",
        "    t  = np.arange(sequence_len)    \n",
        "    if predictions is None:\n",
        "        dt = 0\n",
        "    else:\n",
        "        dt = len(predictions)\n",
        "        sequence_with_pred = sequence.copy()\n",
        "        sequence_with_pred[-dt:]=predictions\n",
        "\n",
        "    rows = math.ceil(features_len/columns)\n",
        "    fig  = plt.figure(figsize=(columns*width, rows*height))\n",
        "    fig.subplots_adjust(wspace=0.3,hspace=0.2)\n",
        "    n=1\n",
        "    for i in only_features:\n",
        "        ax=fig.add_subplot(rows, columns, n)\n",
        "        \n",
        "        # ---- Real sequence without prediction\n",
        "        #\n",
        "        ax.plot( t[:-dt],sequence[:-dt,i], 'o',  markersize=ms, color='C0', zorder=2)\n",
        "        ax.plot( t,sequence[:,i],          '-',  linewidth=lw,  color='C0', label=labels[i],zorder=1)\n",
        "\n",
        "        # ---- What we expect\n",
        "        #\n",
        "        ax.plot(t[-dt:], sequence[-dt:,i], 'o', markeredgecolor='C0',markerfacecolor='white',ms=6)\n",
        "        \n",
        "        if predictions is not None:\n",
        "            ax.plot(t[-dt-1:], sequence_with_pred[-dt-1:,i], '--',  lw=lw, fillstyle='full',  ms=ms, color='C1',zorder=1)\n",
        "            ax.plot(t[-dt:],   predictions[:,i],             'o',   lw=lw, fillstyle='full',  ms=ms, color='C1',zorder=2)\n",
        "\n",
        "        if hide_ticks:\n",
        "            ax.set_yticks([])\n",
        "            ax.set_xticks([])\n",
        "        \n",
        "        ax.legend(loc=\"upper left\")\n",
        "        n+=1\n",
        "    plt.show()\n",
        "\n"
      ],
      "metadata": {
        "cellView": "form",
        "id": "Rs_cepCJC1Ju"
      },
      "execution_count": null,
      "outputs": []
    },
    {
      "cell_type": "markdown",
      "metadata": {
        "id": "7u8ZmXfb3a8J"
      },
      "source": [
        "### 1.2 - Parameters"
      ]
    },
    {
      "cell_type": "code",
      "execution_count": null,
      "metadata": {
        "id": "I_yYcBTM3a8J"
      },
      "outputs": [],
      "source": [
        "# ---- About dataset (no need to change)\n",
        "#\n",
        "dataset_dir      = '.'                  \n",
        "dataset_filename = 'synop-LYS.csv'\n",
        "schema_filename  = 'synop.json'\n",
        "features         = ['tend', 'cod_tend', 'dd', 'ff', 'td', 'u', 'ww', 'pres', 'rafper', 'rr1', 'rr3', 'tc']\n",
        "features_len     = len(features)\n",
        "\n",
        "# ---- About training (Can be changed !)\n",
        "#\n",
        "scale            = 1        # Percentage of dataset to be used (1=all)\n",
        "train_prop       = .8       # Percentage for train (the rest being for the test)\n",
        "sequence_len     = 16\n",
        "batch_size       = 32\n",
        "epochs           = 10\n",
        "fit_verbosity    = 1        # 0 = silent, 1 = progress bar, 2 = one line per epoch"
      ]
    },
    {
      "cell_type": "markdown",
      "metadata": {
        "id": "Dt9iEkrb3a8M"
      },
      "source": [
        "## Step 2 - Read and prepare dataset\n",
        "### 2.1 - Read it\n",
        "\n",
        "**--> Upload the data files you prepared in the previous notebook**"
      ]
    },
    {
      "cell_type": "code",
      "source": [
        "from google.colab import files\n",
        "\n",
        "uploaded = files.upload()\n",
        "\n",
        "for fn in uploaded.keys():\n",
        "  print('User uploaded file \"{name}\" with length {length} bytes'.format(\n",
        "      name=fn, length=len(uploaded[fn])))"
      ],
      "metadata": {
        "id": "FWrXkNLvDKZi"
      },
      "execution_count": null,
      "outputs": []
    },
    {
      "cell_type": "code",
      "execution_count": null,
      "metadata": {
        "id": "ddn-YvUo3a8M"
      },
      "outputs": [],
      "source": [
        "# ---- Read dataset from ./data\n",
        "\n",
        "df = pd.read_csv(f'{dataset_dir}/{dataset_filename}', header=0, sep=';')\n",
        "\n",
        "# ---- Scaling\n",
        "\n",
        "df = df[:int(scale*len(df))]\n",
        "train_len=int(train_prop*len(df))\n",
        "\n",
        "# ---- Train / Test\n",
        "dataset_train = df.loc[ :train_len-1, features ]\n",
        "dataset_test  = df.loc[train_len:,    features ]\n",
        "print('Train dataset example :')\n",
        "display(dataset_train.head(15))\n",
        "\n",
        "# ---- Normalize, and convert to numpy array\n",
        "\n",
        "mean = dataset_train.mean()\n",
        "std  = dataset_train.std()\n",
        "dataset_train = (dataset_train - mean) / std\n",
        "dataset_test  = (dataset_test  - mean) / std\n",
        "\n",
        "print('After normalization :')\n",
        "display(dataset_train.describe().style.format(\"{0:.2f}\"))\n",
        "\n",
        "dataset_train = dataset_train.to_numpy()\n",
        "dataset_test  = dataset_test.to_numpy()\n",
        "\n",
        "print('Shapes :')\n",
        "print('Dataset       : ',df.shape)\n",
        "print('Train dataset : ',dataset_train.shape)\n",
        "print('Test  dataset : ',dataset_test.shape)\n"
      ]
    },
    {
      "cell_type": "markdown",
      "metadata": {
        "id": "DFPi-g993a8N"
      },
      "source": [
        "### 2.2 - Prepare data generator"
      ]
    },
    {
      "cell_type": "code",
      "execution_count": null,
      "metadata": {
        "id": "JY4e0U3h3a8O"
      },
      "outputs": [],
      "source": [
        "# ---- Train generator\n",
        "train_generator = TimeseriesGenerator(dataset_train, dataset_train, length=sequence_len,  batch_size=batch_size)\n",
        "test_generator  = TimeseriesGenerator(dataset_test,  dataset_test,  length=sequence_len,  batch_size=batch_size)\n",
        "\n",
        "# ---- About\n",
        "\n",
        "print('About the splitting of our dataset :')\n",
        "\n",
        "x,y=train_generator[0]\n",
        "print(f'Nombre de train batchs disponibles : ', len(train_generator))\n",
        "print('batch x shape : ',x.shape)\n",
        "print('batch y shape : ',y.shape)\n",
        "\n",
        "x,y=train_generator[0]\n",
        "print('What a batch looks like (x) :')\n",
        "np_print(x[0] )\n",
        "print('What a batch looks like (y) :')\n",
        "np_print(y[0])"
      ]
    },
    {
      "cell_type": "markdown",
      "metadata": {
        "id": "gcO2w5uG3a8P"
      },
      "source": [
        "## Step 3 - Create a model"
      ]
    },
    {
      "cell_type": "code",
      "execution_count": null,
      "metadata": {
        "id": "U7D-uyDH3a8Q"
      },
      "outputs": [],
      "source": [
        "model = keras.models.Sequential()\n",
        "model.add( keras.layers.InputLayer(input_shape=(sequence_len, features_len)) )\n",
        "model.add( keras.layers.LSTM(100, activation='relu') )\n",
        "model.add( keras.layers.Dropout(0.2) )\n",
        "model.add( keras.layers.Dense(features_len) )\n",
        "\n",
        "model.summary()"
      ]
    },
    {
      "cell_type": "markdown",
      "metadata": {
        "id": "S8IY7mP13a8Q"
      },
      "source": [
        "## Step 4 - Compile and train"
      ]
    },
    {
      "cell_type": "markdown",
      "metadata": {
        "id": "4WAZCLfA3a8Q"
      },
      "source": [
        "### 4.1 - Callback"
      ]
    },
    {
      "cell_type": "code",
      "execution_count": null,
      "metadata": {
        "id": "Tq5xMFPN3a8R"
      },
      "outputs": [],
      "source": [
        "save_dir = f'best_model.h5'\n",
        "bestmodel_callback = tf.keras.callbacks.ModelCheckpoint(filepath=save_dir, verbose=0, save_best_only=True)"
      ]
    },
    {
      "cell_type": "markdown",
      "metadata": {
        "id": "4azwgpE43a8R"
      },
      "source": [
        "### 4.2 - Compile"
      ]
    },
    {
      "cell_type": "code",
      "execution_count": null,
      "metadata": {
        "id": "_v_5yL6w3a8S"
      },
      "outputs": [],
      "source": [
        "model.compile(optimizer='adam', \n",
        "              loss='mse', \n",
        "              metrics   = ['mae'] )"
      ]
    },
    {
      "cell_type": "markdown",
      "metadata": {
        "id": "alMAjm-z3a8S"
      },
      "source": [
        "### 4.3 - Fit\n",
        "6' with a CPU (laptop)  \n",
        "2' with a GPU"
      ]
    },
    {
      "cell_type": "code",
      "execution_count": null,
      "metadata": {
        "id": "rhRqbIPv3a8S"
      },
      "outputs": [],
      "source": [
        "%%time\n",
        "\n",
        "history=model.fit(train_generator, \n",
        "                  epochs  = epochs, \n",
        "                  verbose = fit_verbosity,\n",
        "                  validation_data = test_generator,\n",
        "                  callbacks = [bestmodel_callback])\n"
      ]
    },
    {
      "cell_type": "code",
      "execution_count": null,
      "metadata": {
        "id": "PrcIkDK13a8T"
      },
      "outputs": [],
      "source": [
        "plot_history(history,plot={'loss':['loss','val_loss'], 'mae':['mae','val_mae']})"
      ]
    },
    {
      "cell_type": "markdown",
      "metadata": {
        "id": "WKvcuPYJ3a8T"
      },
      "source": [
        "## Step 5 - Predict"
      ]
    },
    {
      "cell_type": "markdown",
      "metadata": {
        "id": "pT3rztut3a8T"
      },
      "source": [
        "### 5.1 - Load model"
      ]
    },
    {
      "cell_type": "code",
      "execution_count": null,
      "metadata": {
        "id": "28V_KPX53a8T"
      },
      "outputs": [],
      "source": [
        "loaded_model = tf.keras.models.load_model(f'best_model.h5')"
      ]
    },
    {
      "cell_type": "markdown",
      "metadata": {
        "id": "Uwon362G3a8U"
      },
      "source": [
        "### 5.2 Make a prediction\n",
        "A basic prediction, with normalized values (so humanly not very understandable)"
      ]
    },
    {
      "cell_type": "code",
      "execution_count": null,
      "metadata": {
        "id": "upkcncNm3a8U"
      },
      "outputs": [],
      "source": [
        "s=random.randint(0,len(dataset_test)-sequence_len)\n",
        "\n",
        "sequence      = dataset_test[s:s+sequence_len]\n",
        "sequence_true = dataset_test[s:s+sequence_len+1]\n",
        "\n",
        "pred = loaded_model.predict( np.array([sequence]) )\n",
        "\n",
        "# ---- Show result\n",
        "plot_multivariate_serie(sequence_true, predictions=pred, labels=features)\n"
      ]
    },
    {
      "cell_type": "markdown",
      "metadata": {
        "id": "zu6aTHhZ3a8U"
      },
      "source": [
        "### 5.3 Real prediction\n",
        "We are now going to make a true prediction, with an un-normalized result"
      ]
    },
    {
      "cell_type": "code",
      "execution_count": null,
      "metadata": {
        "id": "3R_htXzj3a8U"
      },
      "outputs": [],
      "source": [
        "def denormalize(mean,std,seq):\n",
        "    nseq = seq.copy()\n",
        "    for i,s in enumerate(nseq):\n",
        "        s = s*std + mean\n",
        "        nseq[i]=s\n",
        "    return nseq\n",
        "\n",
        "\n",
        "# ---- Get a sequence\n",
        "\n",
        "i=random.randint(0,len(dataset_test)-sequence_len)\n",
        "sequence      = dataset_test[i:i+sequence_len]\n",
        "sequence_true = dataset_test[i:i+sequence_len+1]\n",
        "\n",
        "# ---- Prediction\n",
        "\n",
        "pred = loaded_model.predict( np.array([sequence]) )\n",
        "\n",
        "# ---- De-normalization\n",
        "\n",
        "sequence_true = denormalize(mean,std, sequence_true)\n",
        "pred          = denormalize(mean,std, pred)\n",
        "\n",
        "# ---- Show it\n",
        "feat=11\n",
        "\n",
        "plot_multivariate_serie(sequence_true, predictions=pred, labels=features, only_features=[feat],width=14, height=8, save_as='03-prediction')\n",
        "\n",
        "delta_deg=abs(sequence_true[-1][feat]-pred[-1][feat])\n",
        "print(f'Gap between prediction and reality : {delta_deg:.2f} °C')\n"
      ]
    },
    {
      "cell_type": "markdown",
      "source": [
        "## On enregistre le modèle sur notre machine"
      ],
      "metadata": {
        "id": "xkKdRMIhGzig"
      }
    },
    {
      "cell_type": "code",
      "execution_count": null,
      "metadata": {
        "id": "24susktG3a8V"
      },
      "outputs": [],
      "source": [
        "from google.colab import files\n",
        "files.download('best_model.h5')"
      ]
    },
    {
      "cell_type": "markdown",
      "metadata": {
        "id": "OeCRbuY93a8V"
      },
      "source": [
        "---\n",
        "<img width=\"80px\" src=\"https://github.com/lsteffenel/CHPS0942/blob/main/fidle/img/00-Fidle-logo-01.svg?raw=1\"></img>"
      ]
    }
  ],
  "metadata": {
    "interpreter": {
      "hash": "8e38643e33497db9a306e3f311fa98cb1e65371278ca73ee4ea0c76aa5a4f387"
    },
    "kernelspec": {
      "display_name": "Python 3.9.7 64-bit ('fidle-cpu': conda)",
      "name": "python3"
    },
    "language_info": {
      "codemirror_mode": {
        "name": "ipython",
        "version": 3
      },
      "file_extension": ".py",
      "mimetype": "text/x-python",
      "name": "python",
      "nbconvert_exporter": "python",
      "pygments_lexer": "ipython3",
      "version": "3.9.7"
    },
    "colab": {
      "name": "SYNOP2_First_predictions.ipynb",
      "provenance": []
    },
    "accelerator": "GPU"
  },
  "nbformat": 4,
  "nbformat_minor": 0
}