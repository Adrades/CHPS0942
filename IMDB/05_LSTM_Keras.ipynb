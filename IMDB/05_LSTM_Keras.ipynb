{
  "cells": [
    {
      "cell_type": "markdown",
      "metadata": {
        "id": "FM1Oct6hk3qG"
      },
      "source": [
        "\n",
        "# <!-- TITLE --> [IMDB5] - Sentiment analysis with a RNN network\n",
        "<!-- DESC --> Still the same problem, but with a network combining embedding and RNN\n",
        "<!-- AUTHOR : Jean-Luc Parouty (CNRS/SIMaP) -->\n",
        "\n",
        "## Objectives :\n",
        " - The objective is to guess whether film reviews are **positive or negative** based on the analysis of the text. \n",
        " - Use of a model combining embedding and LSTM\n",
        "\n",
        "Original dataset can be find **[there](http://ai.stanford.edu/~amaas/data/sentiment/)**  \n",
        "Note that [IMDb.com](https://imdb.com) offers several easy-to-use [datasets](https://www.imdb.com/interfaces/)  \n",
        "For simplicity's sake, we'll use the dataset directly [embedded in Keras](https://www.tensorflow.org/api_docs/python/tf/keras/datasets)\n",
        "\n",
        "## What we're going to do :\n",
        "\n",
        " - Retrieve data\n",
        " - Preparing the data\n",
        " - Build a Embedding/LSTM model\n",
        " - Train the model\n",
        " - Evaluate the result\n"
      ]
    },
    {
      "cell_type": "markdown",
      "metadata": {
        "id": "4BypWqLdk3qM"
      },
      "source": [
        "## Step 1 - Init python stuff"
      ]
    },
    {
      "cell_type": "code",
      "execution_count": null,
      "metadata": {
        "id": "wK2T8t-Ok3qN"
      },
      "outputs": [],
      "source": [
        "import numpy as np\n",
        "\n",
        "import tensorflow as tf\n",
        "import tensorflow.keras as keras\n",
        "import tensorflow.keras.datasets.imdb as imdb\n",
        "\n",
        "import matplotlib.pyplot as plt\n",
        "import matplotlib\n",
        "\n",
        "import os,sys,h5py,json\n",
        "from importlib import reload\n",
        "\n",
        "\n",
        "run_dir = '.'"
      ]
    },
    {
      "cell_type": "code",
      "source": [
        "#@title\n",
        "\n",
        "from collections.abc import Iterable\n",
        "from sklearn.metrics import confusion_matrix\n",
        "import itertools\n",
        "import pandas as pd\n",
        "\n",
        "# -------------------------------------------------------------\n",
        "# show_images\n",
        "# -------------------------------------------------------------\n",
        "#\n",
        "def plot_images(x,y=None, indices='all', columns=12, x_size=1, y_size=1,\n",
        "                colorbar=False, y_pred=None, cm='binary', norm=None, y_padding=0.35, spines_alpha=1,\n",
        "                fontsize=20, interpolation='lanczos', save_as='auto'):\n",
        "    \"\"\"\n",
        "    Show some images in a grid, with legends\n",
        "    args:\n",
        "        x             : images - Shapes must be (-1,lx,ly) (-1,lx,ly,1) or (-1,lx,ly,3)\n",
        "        y             : real classes or labels or None (None)\n",
        "        indices       : indices of images to show or 'all' for all ('all')\n",
        "        columns       : number of columns (12)\n",
        "        x_size,y_size : figure size (1), (1)\n",
        "        colorbar      : show colorbar (False)\n",
        "        y_pred        : predicted classes (None)\n",
        "        cm            : Matplotlib color map (binary)\n",
        "        norm          : Matplotlib imshow normalization (None)\n",
        "        y_padding     : Padding / rows (0.35)\n",
        "        spines_alpha  : Spines alpha (1.)\n",
        "        font_size     : Font size in px (20)\n",
        "        save_as       : Filename to use if save figs is enable ('auto')\n",
        "    returns: \n",
        "        nothing\n",
        "    \"\"\"\n",
        "    if indices=='all': indices=range(len(x))\n",
        "    if norm and len(norm) == 2: norm = matplotlib.colors.Normalize(vmin=norm[0], vmax=norm[1])\n",
        "    draw_labels = (y is not None)\n",
        "    draw_pred   = (y_pred is not None)\n",
        "    rows        = math.ceil(len(indices)/columns)\n",
        "    fig=plt.figure(figsize=(columns*x_size, rows*(y_size+y_padding)))\n",
        "    n=1\n",
        "    for i in indices:\n",
        "        axs=fig.add_subplot(rows, columns, n)\n",
        "        n+=1\n",
        "        # ---- Shape is (lx,ly)\n",
        "        if len(x[i].shape)==2:\n",
        "            xx=x[i]\n",
        "        # ---- Shape is (lx,ly,n)\n",
        "        if len(x[i].shape)==3:\n",
        "            (lx,ly,lz)=x[i].shape\n",
        "            if lz==1: \n",
        "                xx=x[i].reshape(lx,ly)\n",
        "            else:\n",
        "                xx=x[i]\n",
        "        img=axs.imshow(xx,   cmap = cm, norm=norm, interpolation=interpolation)\n",
        "#         img=axs.imshow(xx,   cmap = cm, interpolation=interpolation)\n",
        "        axs.spines['right'].set_visible(True)\n",
        "        axs.spines['left'].set_visible(True)\n",
        "        axs.spines['top'].set_visible(True)\n",
        "        axs.spines['bottom'].set_visible(True)\n",
        "        axs.spines['right'].set_alpha(spines_alpha)\n",
        "        axs.spines['left'].set_alpha(spines_alpha)\n",
        "        axs.spines['top'].set_alpha(spines_alpha)\n",
        "        axs.spines['bottom'].set_alpha(spines_alpha)\n",
        "        axs.set_yticks([])\n",
        "        axs.set_xticks([])\n",
        "        if draw_labels and not draw_pred:\n",
        "            axs.set_xlabel(y[i],fontsize=fontsize)\n",
        "        if draw_labels and draw_pred:\n",
        "            if y[i]!=y_pred[i]:\n",
        "                axs.set_xlabel(f'{y_pred[i]} ({y[i]})',fontsize=fontsize)\n",
        "                axs.xaxis.label.set_color('red')\n",
        "            else:\n",
        "                axs.set_xlabel(y[i],fontsize=fontsize)\n",
        "        if colorbar:\n",
        "            fig.colorbar(img,orientation=\"vertical\", shrink=0.65)\n",
        "    plt.show()\n",
        "\n",
        "    \n",
        "def plot_image(x,cm='binary', figsize=(4,4),interpolation='lanczos', save_as='auto'):\n",
        "    \"\"\"\n",
        "    Draw a single image.\n",
        "    Image shape can be (lx,ly), (lx,ly,1) or (lx,ly,n)\n",
        "    args:\n",
        "        x       : image as np array\n",
        "        cm      : color map ('binary')\n",
        "        figsize : fig size (4,4)\n",
        "    \"\"\"\n",
        "    # ---- Shape is (lx,ly)\n",
        "    if len(x.shape)==2:\n",
        "        xx=x\n",
        "    # ---- Shape is (lx,ly,n)\n",
        "    if len(x.shape)==3:\n",
        "        (lx,ly,lz)=x.shape\n",
        "        if lz==1: \n",
        "            xx=x.reshape(lx,ly)\n",
        "        else:\n",
        "            xx=x\n",
        "    # ---- Draw it\n",
        "    plt.figure(figsize=figsize)\n",
        "    plt.imshow(xx,   cmap = cm, interpolation=interpolation)\n",
        "    plt.show()\n",
        "\n",
        "def plot_history(history, figsize=(8,6), \n",
        "                 plot={\"Accuracy\":['accuracy','val_accuracy'], 'Loss':['loss', 'val_loss']},\n",
        "                 save_as='auto'):\n",
        "    \"\"\"\n",
        "    Show history\n",
        "    args:\n",
        "        history: history\n",
        "        figsize: fig size\n",
        "        plot: list of data to plot : {<title>:[<metrics>,...], ...}\n",
        "    \"\"\"\n",
        "    fig_id=0\n",
        "    for title,curves in plot.items():\n",
        "        plt.figure(figsize=figsize)\n",
        "        plt.title(title)\n",
        "        plt.ylabel(title)\n",
        "        plt.xlabel('Epoch')\n",
        "        for c in curves:\n",
        "            plt.plot(history.history[c])\n",
        "        plt.legend(curves, loc='upper left')\n",
        "        if save_as=='auto':\n",
        "            figname='auto'\n",
        "        else:\n",
        "            figname=f'{save_as}_{fig_id}'\n",
        "            fig_id+=1\n",
        "        plt.show()\n",
        "\n",
        "def plot_confusion_matrix(y_true,y_pred,\n",
        "                          target_names,\n",
        "                          title='Confusion matrix',\n",
        "                          cmap=None,\n",
        "                          normalize=True,\n",
        "                          figsize=(10, 8),\n",
        "                          digit_format='{:0.2f}',\n",
        "                          save_as='auto'):\n",
        "    \"\"\"\n",
        "    given a sklearn confusion matrix (cm), make a nice plot\n",
        "\n",
        "    Arguments\n",
        "    ---------\n",
        "    cm:           confusion matrix from sklearn.metrics.confusion_matrix\n",
        "\n",
        "    target_names: given classification classes such as [0, 1, 2]\n",
        "                  the class names, for example: ['high', 'medium', 'low']\n",
        "\n",
        "    title:        the text to display at the top of the matrix\n",
        "\n",
        "    cmap:         the gradient of the values displayed from matplotlib.pyplot.cm\n",
        "                  see http://matplotlib.org/examples/color/colormaps_reference.html\n",
        "                  plt.get_cmap('jet') or plt.cm.Blues\n",
        "\n",
        "    normalize:    If False, plot the raw numbers\n",
        "                  If True, plot the proportions\n",
        "\n",
        "    Citiation\n",
        "    ---------\n",
        "    http://scikit-learn.org/stable/auto_examples/model_selection/plot_confusion_matrix.html\n",
        "\n",
        "    \"\"\"\n",
        "    cm = confusion_matrix( y_true,y_pred, normalize=None, labels=target_names)\n",
        "    \n",
        "    accuracy = np.trace(cm) / float(np.sum(cm))\n",
        "    misclass = 1 - accuracy\n",
        "\n",
        "    if cmap is None:\n",
        "        cmap = plt.get_cmap('Blues')\n",
        "\n",
        "    plt.figure(figsize=figsize)\n",
        "    plt.imshow(cm, interpolation='nearest', cmap=cmap)\n",
        "    plt.title(title)\n",
        "    plt.colorbar()\n",
        "\n",
        "    if target_names is not None:\n",
        "        tick_marks = np.arange(len(target_names))\n",
        "        plt.xticks(tick_marks, target_names, rotation=90)\n",
        "        plt.yticks(tick_marks, target_names)\n",
        "\n",
        "    if normalize:\n",
        "        cm = cm.astype('float') / cm.sum(axis=1)[:, np.newaxis]\n",
        "\n",
        "\n",
        "    thresh = cm.max() / 1.5 if normalize else cm.max() / 2\n",
        "    for i, j in itertools.product(range(cm.shape[0]), range(cm.shape[1])):\n",
        "        if normalize:\n",
        "            plt.text(j, i, digit_format.format(cm[i, j]),\n",
        "                     horizontalalignment=\"center\",\n",
        "                     color=\"white\" if cm[i, j] > thresh else \"black\")\n",
        "        else:\n",
        "            plt.text(j, i, \"{:,}\".format(cm[i, j]),\n",
        "                     horizontalalignment=\"center\",\n",
        "                     color=\"white\" if cm[i, j] > thresh else \"black\")\n",
        "\n",
        "    plt.tight_layout()\n",
        "    plt.ylabel('True label')\n",
        "    plt.xlabel('Predicted label\\naccuracy={:0.4f}; misclass={:0.4f}'.format(accuracy, misclass))\n",
        "    plt.show()\n",
        "\n",
        "\n",
        "    \n",
        "def display_confusion_matrix(y_true,y_pred,labels=None,color='green',\n",
        "                             font_size='12pt'):\n",
        "    \"\"\"\n",
        "    Show a confusion matrix for a predictions.\n",
        "    see : sklearn.metrics.confusion_matrix\n",
        "\n",
        "    Args:\n",
        "        y_true:       Real classes\n",
        "        y_pred:       Predicted classes\n",
        "        labels:       List of classes to show in the cm\n",
        "        color:        Color for the palette (green)\n",
        "        font_size:    Values font size \n",
        "        title:        the text to display at the top of the matrix        \n",
        "    \"\"\"\n",
        "    assert (labels!=None),\"Label must be set\"\n",
        "    \n",
        "    \n",
        "    cm = confusion_matrix( y_true,y_pred, normalize=\"true\", labels=labels)\n",
        "    df=pd.DataFrame(cm)\n",
        "\n",
        "#     cmap = sn.light_palette(color, as_cmap=True)\n",
        "\n",
        "    colorsList = ['whitesmoke','bisque']\n",
        "    cmap = matplotlib.colors.ListedColormap(colorsList)\n",
        "    cmap = matplotlib.colors.ListedColormap(cmap(np.linspace(0, 1, 256)))\n",
        "\n",
        "    df.style.set_properties(**{'font-size': '20pt'})\n",
        "    display(df.style.format('{:.2f}') \\\n",
        "            .background_gradient(cmap=cmap)\n",
        "            .set_properties(**{'font-size': font_size}))\n",
        "    \n",
        "\n",
        "def plot_donut(values, labels, colors=[\"lightsteelblue\",\"coral\"], figsize=(6,6), title=None):\n",
        "    \"\"\"\n",
        "    Draw a donut\n",
        "    args:\n",
        "        values   : list of values\n",
        "        labels   : list of labels\n",
        "        colors   : list of color ([\"lightsteelblue\",\"coral\"])\n",
        "        figsize  : size of figure ( (6,6) )\n",
        "    return:\n",
        "        nothing\n",
        "    \"\"\"\n",
        "    # ---- Title or not\n",
        "    if title != None :  display(Markdown(title))\n",
        "    # ---- Donut\n",
        "    plt.figure(figsize=figsize)\n",
        "    # ---- Draw a pie  chart..\n",
        "    plt.pie(values, labels=labels, \n",
        "            colors = colors, autopct='%1.1f%%', startangle=70, pctdistance=0.85,\n",
        "            textprops={'fontsize': 18},\n",
        "            wedgeprops={\"edgecolor\":\"w\",'linewidth': 5, 'linestyle': 'solid', 'antialiased': True})\n",
        "    # ---- ..with a white circle\n",
        "    circle = plt.Circle((0,0),0.70,fc='white')\n",
        "    ax = plt.gca()\n",
        "    ax.add_artist(circle)\n",
        "    # Equal aspect ratio ensures that pie is drawn as a circle\n",
        "    plt.axis('equal')  \n",
        "    plt.tight_layout()\n",
        "    plt.show()\n",
        "\n",
        "def rmax(l):\n",
        "    \"\"\"\n",
        "    Recursive max() for a given iterable of iterables\n",
        "    Should be np.array of np.array or list of list, etc.\n",
        "    args:\n",
        "        l : Iterable of iterables\n",
        "    return: \n",
        "        max value\n",
        "    \"\"\"\n",
        "    maxi = float('-inf')\n",
        "    for item in l:\n",
        "        if isinstance(item, Iterable):\n",
        "\n",
        "            t = rmax(item)\n",
        "        else:\n",
        "            t = item\n",
        "        if t > maxi:\n",
        "            maxi = t\n",
        "    return maxi\n",
        "\n",
        "def rmin(l):\n",
        "    \"\"\"\n",
        "    Recursive min() for a given iterable of iterables\n",
        "    Should be np.array of np.array or list of list, etc.\n",
        "    args:\n",
        "        l : Iterable of iterables\n",
        "    return: \n",
        "        min value\n",
        "    \"\"\"\n",
        "    mini = float('inf')\n",
        "    for item in l:\n",
        "        if isinstance(item, Iterable):\n",
        "            t = rmin(item)\n",
        "        else:\n",
        "            t = item\n",
        "        if t < mini:\n",
        "            mini = t\n",
        "    return mini\n",
        "\n"
      ],
      "metadata": {
        "cellView": "form",
        "id": "CJdO9MTNlAn1"
      },
      "execution_count": null,
      "outputs": []
    },
    {
      "cell_type": "markdown",
      "metadata": {
        "id": "_X7Xpoqrk3qP"
      },
      "source": [
        "## Step 2 - Parameters\n",
        "The words in the vocabulary are classified from the most frequent to the rarest.  \n",
        "`vocab_size` is the number of words we will remember in our vocabulary (the other words will be considered as unknown).  \n",
        "`hide_most_frequently` is the number of ignored words, among the most common ones  \n",
        "`review_len` is the review length  \n",
        "`dense_vector_size` is the size of the generated dense vectors  \n",
        "`fit_verbosity` is the verbosity during training : 0 = silent, 1 = progress bar, 2 = one line per epoch\\\n",
        "`scale` is a dataset scale factor - note a scale=1 need a training time > 10'"
      ]
    },
    {
      "cell_type": "code",
      "execution_count": null,
      "metadata": {
        "id": "DRIxVyRVk3qQ"
      },
      "outputs": [],
      "source": [
        "vocab_size           = 10000\n",
        "hide_most_frequently = 0\n",
        "\n",
        "review_len           = 256\n",
        "dense_vector_size    = 32\n",
        "\n",
        "epochs               = 10\n",
        "batch_size           = 128\n",
        "\n",
        "fit_verbosity        = 1\n",
        "scale                = 1"
      ]
    },
    {
      "cell_type": "markdown",
      "metadata": {
        "id": "MajucmFfk3qS"
      },
      "source": [
        "## Step 3 - Retrieve data\n",
        "\n",
        "IMDb dataset can bet get directly from Keras - see [documentation](https://www.tensorflow.org/api_docs/python/tf/keras/datasets)  \n",
        "Note : Due to their nature, textual data can be somewhat complex."
      ]
    },
    {
      "cell_type": "markdown",
      "metadata": {
        "id": "5Nq0zmjIk3qS"
      },
      "source": [
        "### 3.1 - Get dataset\n",
        "For simplicity, we will use a pre-formatted dataset - See [documentation](https://www.tensorflow.org/api_docs/python/tf/keras/datasets/imdb/load_data)  \n",
        "However, Keras offers some usefull tools for formatting textual data - See [documentation](https://www.tensorflow.org/api_docs/python/tf/keras/preprocessing/text)  \n",
        "\n",
        "**Load dataset :**"
      ]
    },
    {
      "cell_type": "code",
      "execution_count": null,
      "metadata": {
        "id": "u651dJdIk3qT"
      },
      "outputs": [],
      "source": [
        "(x_train, y_train), (x_test, y_test) = imdb.load_data( num_words=vocab_size, skip_top=hide_most_frequently, seed= 42,)\n",
        "\n",
        "y_train = np.asarray(y_train).astype('float32')\n",
        "y_test  = np.asarray(y_test ).astype('float32')\n",
        "\n",
        "# ---- Rescale\n",
        "#\n",
        "n1 = int(scale * len(x_train))\n",
        "n2 = int(scale * len(x_test))\n",
        "x_train, y_train = x_train[:n1], y_train[:n1]\n",
        "x_test,  y_test  = x_test[:n2],  y_test[:n2]\n",
        "\n",
        "# ---- About\n",
        "#\n",
        "print(\"Max(x_train,x_test)  : \", rmax([x_train,x_test]) )\n",
        "print(\"Min(x_train,x_test)  : \", rmin([x_train,x_test]) )\n",
        "print(\"x_train : {}  y_train : {}\".format(x_train.shape, y_train.shape))\n",
        "print(\"x_test  : {}  y_test  : {}\".format(x_test.shape,  y_test.shape))"
      ]
    },
    {
      "cell_type": "markdown",
      "metadata": {
        "id": "RbnLxqFVk3qU"
      },
      "source": [
        "**About this dataset :**"
      ]
    },
    {
      "cell_type": "code",
      "execution_count": null,
      "metadata": {
        "id": "14sYuVB_k3qV"
      },
      "outputs": [],
      "source": [
        "print(\"  Max(x_train,x_test)  : \", rmax([x_train,x_test]) )\n",
        "print(\"  x_train : {}  y_train : {}\".format(x_train.shape, y_train.shape))\n",
        "print(\"  x_test  : {}  y_test  : {}\".format(x_test.shape,  y_test.shape))\n",
        "\n",
        "print('\\nReview example (x_train[12]) :\\n\\n',x_train[12])"
      ]
    },
    {
      "cell_type": "markdown",
      "metadata": {
        "id": "U8tVesAsk3qW"
      },
      "source": [
        "### 3.2 - Have a look for humans (optional)\n",
        "When we loaded the dataset, we asked for using \\<start\\> as 1, \\<unknown word\\> as 2  \n",
        "So, we shifted the dataset by 3 with the parameter index_from=3\n",
        "\n",
        "**Load dictionary :**"
      ]
    },
    {
      "cell_type": "code",
      "execution_count": null,
      "metadata": {
        "id": "Uw_PAtUjk3qW"
      },
      "outputs": [],
      "source": [
        "# ---- Retrieve dictionary {word:index}, and encode it in ascii\n",
        "#\n",
        "word_index = imdb.get_word_index()\n",
        "\n",
        "# ---- Shift the dictionary from +3\n",
        "#\n",
        "word_index = {w:(i+3) for w,i in word_index.items()}\n",
        "\n",
        "# ---- Add <pad>, <start> and unknown tags\n",
        "#\n",
        "word_index.update( {'<pad>':0, '<start>':1, '<unknown>':2} )\n",
        "\n",
        "# ---- Create a reverse dictionary : {index:word}\n",
        "#\n",
        "index_word = {index:word for word,index in word_index.items()} \n",
        "\n",
        "# ---- Add a nice function to transpose :\n",
        "#\n",
        "def dataset2text(review):\n",
        "    return ' '.join([index_word.get(i, '?') for i in review])"
      ]
    },
    {
      "cell_type": "markdown",
      "metadata": {
        "id": "32Sgks6Jk3qX"
      },
      "source": [
        "**Have a look :**"
      ]
    },
    {
      "cell_type": "code",
      "execution_count": null,
      "metadata": {
        "id": "I6bUadxqk3qX"
      },
      "outputs": [],
      "source": [
        "print('\\nDictionary size     : ', len(word_index))\n",
        "for k in range(440,455):print(f'{k:2d} : {index_word[k]}' )\n",
        "print('Review example :')\n",
        "print(x_train[12])\n",
        "print('After translation :')\n",
        "print(dataset2text(x_train[12]))"
      ]
    },
    {
      "cell_type": "markdown",
      "metadata": {
        "id": "QlY5Txz4k3qY"
      },
      "source": [
        "## Step 4 - Preprocess the data (padding)\n",
        "In order to be processed by an NN, all entries must have the **same length.**  \n",
        "We chose a review length of **review_len**  \n",
        "We will therefore complete them with a padding (of \\<pad\\>\\)  "
      ]
    },
    {
      "cell_type": "code",
      "execution_count": null,
      "metadata": {
        "id": "NSEW4ziyk3qY"
      },
      "outputs": [],
      "source": [
        "x_train = keras.preprocessing.sequence.pad_sequences(x_train,\n",
        "                                                     value   = 0,\n",
        "                                                     padding = 'post',\n",
        "                                                     maxlen  = review_len)\n",
        "\n",
        "x_test  = keras.preprocessing.sequence.pad_sequences(x_test,\n",
        "                                                     value   = 0 ,\n",
        "                                                     padding = 'post',\n",
        "                                                     maxlen  = review_len)\n",
        "\n",
        "print('After padding :')\n",
        "print(x_train[12])\n",
        "print('In real words :')\n",
        "print(dataset2text(x_train[12]))"
      ]
    },
    {
      "cell_type": "markdown",
      "metadata": {
        "id": "nIIrUkqKk3qY"
      },
      "source": [
        "## Step 5 - Build the model\n",
        "\n",
        "More documentation about this model functions :\n",
        " - [Embedding](https://www.tensorflow.org/api_docs/python/tf/keras/layers/Embedding)\n",
        " - [GlobalAveragePooling1D](https://www.tensorflow.org/api_docs/python/tf/keras/layers/GlobalAveragePooling1D)"
      ]
    },
    {
      "cell_type": "code",
      "execution_count": null,
      "metadata": {
        "id": "gYm-4ov-k3qZ"
      },
      "outputs": [],
      "source": [
        "def get_model(dense_vector_size=128):\n",
        "    \n",
        "    model = keras.Sequential()\n",
        "    model.add(keras.layers.Embedding(input_dim = vocab_size, output_dim = dense_vector_size))\n",
        "    model.add(keras.layers.GRU(50))\n",
        "    model.add(keras.layers.Dense(1, activation='sigmoid'))\n",
        "\n",
        "    model.compile(optimizer = 'rmsprop',\n",
        "                  loss      = 'binary_crossentropy',\n",
        "                  metrics   = ['accuracy'])\n",
        "    return model"
      ]
    },
    {
      "cell_type": "markdown",
      "metadata": {
        "id": "Lz-uMVt8k3qZ"
      },
      "source": [
        "## Step 6 - Train the model\n",
        "### 6.1 - Get it"
      ]
    },
    {
      "cell_type": "code",
      "execution_count": null,
      "metadata": {
        "id": "XjlItalZk3qa"
      },
      "outputs": [],
      "source": [
        "model = get_model(32)\n",
        "\n",
        "model.summary()"
      ]
    },
    {
      "cell_type": "markdown",
      "metadata": {
        "id": "iIDFE6Huk3qa"
      },
      "source": [
        "### 6.2 - Add callback"
      ]
    },
    {
      "cell_type": "code",
      "execution_count": null,
      "metadata": {
        "id": "4mGXEdKrk3qa"
      },
      "outputs": [],
      "source": [
        "os.makedirs(f'{run_dir}/models',   mode=0o750, exist_ok=True)\n",
        "save_dir = f'{run_dir}/models/best_model.h5'\n",
        "savemodel_callback = tf.keras.callbacks.ModelCheckpoint(filepath=save_dir, verbose=0, save_best_only=True)"
      ]
    },
    {
      "cell_type": "markdown",
      "metadata": {
        "id": "i4GCp67ok3qb"
      },
      "source": [
        "### 6.3 - Train it\n",
        "CPU : batch_size=128, epochs=10 : Need 9'30 (CPU, laptop)"
      ]
    },
    {
      "cell_type": "code",
      "execution_count": null,
      "metadata": {
        "id": "Rbw61dJpk3qb"
      },
      "outputs": [],
      "source": [
        "%%time\n",
        "\n",
        "history = model.fit(x_train,\n",
        "                    y_train,\n",
        "                    epochs          = epochs,\n",
        "                    batch_size      = batch_size,\n",
        "                    validation_data = (x_test, y_test),\n",
        "                    verbose         = fit_verbosity,\n",
        "                    callbacks       = [savemodel_callback])\n"
      ]
    },
    {
      "cell_type": "markdown",
      "metadata": {
        "id": "dd7ccGgMk3qb"
      },
      "source": [
        "### 6.4 - Training history"
      ]
    },
    {
      "cell_type": "code",
      "execution_count": null,
      "metadata": {
        "id": "U-uAQht_k3qb"
      },
      "outputs": [],
      "source": [
        "plot_history(history)"
      ]
    },
    {
      "cell_type": "markdown",
      "metadata": {
        "id": "fHTB6Wspk3qc"
      },
      "source": [
        "## Step 7 - Evaluation\n",
        "Reload and evaluate best model"
      ]
    },
    {
      "cell_type": "code",
      "execution_count": null,
      "metadata": {
        "id": "k3gLAm-Dk3qc"
      },
      "outputs": [],
      "source": [
        "model = keras.models.load_model(f'{run_dir}/models/best_model.h5')\n",
        "\n",
        "# ---- Evaluate\n",
        "score  = model.evaluate(x_test, y_test, verbose=0)\n",
        "\n",
        "print('x_test / loss      : {:5.4f}'.format(score[0]))\n",
        "print('x_test / accuracy  : {:5.4f}'.format(score[1]))\n",
        "\n",
        "values=[score[1], 1-score[1]]\n",
        "plot_donut(values,[\"Accuracy\",\"Errors\"])\n",
        "\n",
        "# ---- Confusion matrix\n",
        "\n",
        "y_sigmoid = model.predict(x_test)\n",
        "\n",
        "y_pred = y_sigmoid.copy()\n",
        "y_pred[ y_sigmoid< 0.5 ] = 0\n",
        "y_pred[ y_sigmoid>=0.5 ] = 1    \n",
        "\n",
        "display_confusion_matrix(y_test,y_pred,labels=range(2))\n",
        "plot_confusion_matrix(y_test,y_pred,range(2), figsize=(8, 8),normalize=False)"
      ]
    },
    {
      "cell_type": "markdown",
      "metadata": {
        "id": "signyr0kk3qd"
      },
      "source": [
        "* Exercice extrait de la formation FIDLE https://gricad-gitlab.univ-grenoble-alpes.fr/talks/fidle"
      ]
    },
    {
      "cell_type": "code",
      "source": [
        ""
      ],
      "metadata": {
        "id": "XnIgkhFYma6e"
      },
      "execution_count": null,
      "outputs": []
    }
  ],
  "metadata": {
    "interpreter": {
      "hash": "8e38643e33497db9a306e3f311fa98cb1e65371278ca73ee4ea0c76aa5a4f387"
    },
    "kernelspec": {
      "display_name": "Python 3.9.7 64-bit ('fidle-cpu': conda)",
      "name": "python3"
    },
    "language_info": {
      "codemirror_mode": {
        "name": "ipython",
        "version": 3
      },
      "file_extension": ".py",
      "mimetype": "text/x-python",
      "name": "python",
      "nbconvert_exporter": "python",
      "pygments_lexer": "ipython3",
      "version": "3.9.7"
    },
    "colab": {
      "name": "05-LSTM-Keras.ipynb",
      "provenance": []
    },
    "accelerator": "GPU"
  },
  "nbformat": 4,
  "nbformat_minor": 0
}