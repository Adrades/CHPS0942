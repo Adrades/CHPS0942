{
  "nbformat": 4,
  "nbformat_minor": 5,
  "metadata": {
    "kernelspec": {
      "display_name": "Python 3 (ipykernel)",
      "language": "python",
      "name": "python3"
    },
    "language_info": {
      "codemirror_mode": {
        "name": "ipython",
        "version": 3
      },
      "file_extension": ".py",
      "mimetype": "text/x-python",
      "name": "python",
      "nbconvert_exporter": "python",
      "pygments_lexer": "ipython3",
      "version": "3.8.5"
    },
    "colab": {
      "name": "Readme.ipynb",
      "provenance": []
    }
  },
  "cells": [
    {
      "cell_type": "markdown",
      "metadata": {
        "id": "07859195-3159-4805-a796-de8a5bb3d704"
      },
      "source": [
        "\n",
        "## Jupyter notebooks\n",
        "\n",
        "<!-- INDEX_BEGIN -->\n",
        "\n",
        "### Linear and logistic regression\n",
        "- **[LINR1](LinearReg/01-Linear-Regression.ipynb)** - [Linear regression with direct resolution](LinearReg/01-Linear-Regression.ipynb)  \n",
        "Low-level implementation, using numpy, of a direct resolution for a linear regression\n",
        "- **[GRAD1](LinearReg/02-Gradient-descent.ipynb)** - [Linear regression with gradient descent](LinearReg/02-Gradient-descent.ipynb)  \n",
        "Low level implementation of a solution by gradient descent. Basic and stochastic approach.\n",
        "- **[POLR1](LinearReg/03-Polynomial-Regression.ipynb)** - [Complexity Syndrome](LinearReg/03-Polynomial-Regression.ipynb)  \n",
        "Illustration of the problem of complexity with the polynomial regression\n",
        "- **[LOGR1](LinearReg/04-Logistic-Regression.ipynb)** - [Logistic regression](LinearReg/04-Logistic-Regression.ipynb)  \n",
        "Simple example of logistic regression with a sklearn solution\n",
        "\n",
        "### Perceptron Model 1957\n",
        "- **[PER57](IRIS/01-Simple-Perceptron.ipynb)** - [Perceptron Model 1957](IRIS/01-Simple-Perceptron.ipynb)  \n",
        "Example of use of a Perceptron, with sklearn and IRIS dataset of 1936 !\n",
        "\n",
        "### Basic regression using DNN\n",
        "- **[BHPD1](BHPD/01-DNN-Regression.ipynb)** - [Regression with a Dense Network (DNN)](BHPD/01-DNN-Regression.ipynb)  \n",
        "Simple example of a regression with the dataset Boston Housing Prices Dataset (BHPD)\n",
        "- **[BHPD2](BHPD/02-DNN-Regression-Premium.ipynb)** - [Regression with a Dense Network (DNN) - Advanced code](BHPD/02-DNN-Regression-Premium.ipynb)  \n",
        "A more advanced implementation of the precedent example\n",
        "\n",
        "### Basic classification using a DNN\n",
        "- **[MNIST1](MNIST/01-DNN-MNIST.ipynb)** - [Simple classification with DNN](MNIST/01-DNN-MNIST.ipynb)  \n",
        "An example of classification using a dense neural network for the famous MNIST dataset\n",
        "\n",
        "---\n",
        "\n",
        "### Basic classification using a CNN\n",
        "- **[MNIST2](MNIST/02-CNN-MNIST.ipynb)** - [Simple classification with CNN](MNIST/02-CNN-MNIST.ipynb)  \n",
        "An example of classification using a convolutional neural network for the famous MNIST dataset\n",
        "\n",
        "### Images classification with Convolutional Neural Networks (CNN)\n",
        "- **[GTSRB1](GTSRB/01-Preparation-of-data.ipynb)** - [Dataset analysis and preparation](GTSRB/01-Preparation-of-data.ipynb)  \n",
        "Episode 1 : Analysis of the GTSRB dataset and creation of an enhanced dataset\n",
        "- **[GTSRB2](GTSRB/02-First-convolutions.ipynb)** - [First convolutions](GTSRB/02-First-convolutions.ipynb)  \n",
        "Episode 2 : First convolutions and first classification of our traffic signs\n",
        "- **[GTSRB3](GTSRB/03-Tracking-and-visualizing.ipynb)** - [Training monitoring](GTSRB/03-Tracking-and-visualizing.ipynb)  \n",
        "Episode 3 : Monitoring, analysis and check points during a training session\n",
        "- **[GTSRB4](GTSRB/04-Data-augmentation.ipynb)** - [Data augmentation ](GTSRB/04-Data-augmentation.ipynb)  \n",
        "Episode 4 : Adding data by data augmentation when we lack it, to improve our results\n",
        "- **[GTSRB5](GTSRB/05-Full-convolutions.ipynb)** - [Full convolutions](GTSRB/05-Full-convolutions.ipynb)  \n",
        "Episode 5 : A lot of models, a lot of datasets and a lot of results.\n",
        "- **[GTSRB6](GTSRB/06-Notebook-as-a-batch.ipynb)** - [Full convolutions as a batch](GTSRB/06-Notebook-as-a-batch.ipynb)  \n",
        "Episode 6 : To compute bigger, use your notebook in batch mode\n",
        "- **[GTSRB7](GTSRB/07-Show-report.ipynb)** - [Batch reports](GTSRB/07-Show-report.ipynb)  \n",
        "Episode 7 : Displaying our jobs report, and the winner is...\n",
        "\n",
        "\n",
        "\n",
        "## Licence\n",
        "\n",
        "[<img width=\"100px\" src=\"https://github.com/lsteffenel/CHPS0942/blob/main/fidle/img/00-fidle-CC%20BY-NC-SA.svg?raw=1\"></img>](https://creativecommons.org/licenses/by-nc-sa/4.0/)  \n",
        "\\[en\\] Attribution - NonCommercial - ShareAlike 4.0 International (CC BY-NC-SA 4.0)  \n",
        "\\[Fr\\] Attribution - Pas d’Utilisation Commerciale - Partage dans les Mêmes Conditions 4.0 International  \n",
        "See [License](https://creativecommons.org/licenses/by-nc-sa/4.0/legalcode).  \n",
        "See [Disclaimer](https://creativecommons.org/licenses/by-nc-sa/4.0/#).  \n",
        "\n",
        "\n"
      ],
      "id": "07859195-3159-4805-a796-de8a5bb3d704"
    },
    {
      "cell_type": "code",
      "metadata": {
        "id": "a4ba9040-d3af-479d-9e60-dcc958c2b8dd"
      },
      "source": [
        ""
      ],
      "id": "a4ba9040-d3af-479d-9e60-dcc958c2b8dd",
      "execution_count": null,
      "outputs": []
    }
  ]
}