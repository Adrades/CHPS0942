{
  "cells": [
    {
      "cell_type": "markdown",
      "metadata": {
        "id": "HWqnvJCzV4mi"
      },
      "source": [
        "\n",
        "# <!-- TITLE --> [IMDB1] - Sentiment analysis with hot-one encoding\n",
        "<!-- DESC --> A basic example of sentiment analysis with sparse encoding, using a dataset from Internet Movie Database (IMDB)\n",
        "<!-- AUTHOR : Jean-Luc Parouty (CNRS/SIMaP) -->\n",
        "\n",
        "## Objectives :\n",
        " - The objective is to guess whether film reviews are **positive or negative** based on the analysis of the text. \n",
        " - Understand the management of **textual data** and **sentiment analysis**\n",
        "\n",
        "Original dataset can be find **[there](http://ai.stanford.edu/~amaas/data/sentiment/)**  \n",
        "Note that [IMDb.com](https://imdb.com) offers several easy-to-use [datasets](https://www.imdb.com/interfaces/)  \n",
        "For simplicity's sake, we'll use the dataset directly [embedded in Keras](https://www.tensorflow.org/api_docs/python/tf/keras/datasets)\n",
        "\n",
        "## What we're going to do :\n",
        "\n",
        " - Retrieve data\n",
        " - Preparing the data\n",
        " - Build a model\n",
        " - Train the model\n",
        " - Evaluate the result\n"
      ]
    },
    {
      "cell_type": "markdown",
      "metadata": {
        "id": "jE_FZzJBV4mp"
      },
      "source": [
        "## Step 1 - Import and init\n",
        "### 1.1 - Python stuff"
      ]
    },
    {
      "cell_type": "code",
      "execution_count": null,
      "metadata": {
        "id": "QF7hyNfsV4mq"
      },
      "outputs": [],
      "source": [
        "import numpy as np\n",
        "\n",
        "import tensorflow as tf\n",
        "import tensorflow.keras as keras\n",
        "import tensorflow.keras.datasets.imdb as imdb\n",
        "\n",
        "import matplotlib.pyplot as plt\n",
        "import matplotlib\n",
        "\n",
        "import pandas as pd\n",
        "\n",
        "import os,sys,h5py,json\n",
        "from importlib import reload\n",
        "\n",
        "run_dir = '.'\n"
      ]
    },
    {
      "cell_type": "code",
      "source": [
        "#@title\n",
        "from collections.abc import Iterable\n",
        "from sklearn.metrics import confusion_matrix\n",
        "import itertools\n",
        "\n",
        "# -------------------------------------------------------------\n",
        "# show_images\n",
        "# -------------------------------------------------------------\n",
        "#\n",
        "def plot_images(x,y=None, indices='all', columns=12, x_size=1, y_size=1,\n",
        "                colorbar=False, y_pred=None, cm='binary', norm=None, y_padding=0.35, spines_alpha=1,\n",
        "                fontsize=20, interpolation='lanczos', save_as='auto'):\n",
        "    \"\"\"\n",
        "    Show some images in a grid, with legends\n",
        "    args:\n",
        "        x             : images - Shapes must be (-1,lx,ly) (-1,lx,ly,1) or (-1,lx,ly,3)\n",
        "        y             : real classes or labels or None (None)\n",
        "        indices       : indices of images to show or 'all' for all ('all')\n",
        "        columns       : number of columns (12)\n",
        "        x_size,y_size : figure size (1), (1)\n",
        "        colorbar      : show colorbar (False)\n",
        "        y_pred        : predicted classes (None)\n",
        "        cm            : Matplotlib color map (binary)\n",
        "        norm          : Matplotlib imshow normalization (None)\n",
        "        y_padding     : Padding / rows (0.35)\n",
        "        spines_alpha  : Spines alpha (1.)\n",
        "        font_size     : Font size in px (20)\n",
        "        save_as       : Filename to use if save figs is enable ('auto')\n",
        "    returns: \n",
        "        nothing\n",
        "    \"\"\"\n",
        "    if indices=='all': indices=range(len(x))\n",
        "    if norm and len(norm) == 2: norm = matplotlib.colors.Normalize(vmin=norm[0], vmax=norm[1])\n",
        "    draw_labels = (y is not None)\n",
        "    draw_pred   = (y_pred is not None)\n",
        "    rows        = math.ceil(len(indices)/columns)\n",
        "    fig=plt.figure(figsize=(columns*x_size, rows*(y_size+y_padding)))\n",
        "    n=1\n",
        "    for i in indices:\n",
        "        axs=fig.add_subplot(rows, columns, n)\n",
        "        n+=1\n",
        "        # ---- Shape is (lx,ly)\n",
        "        if len(x[i].shape)==2:\n",
        "            xx=x[i]\n",
        "        # ---- Shape is (lx,ly,n)\n",
        "        if len(x[i].shape)==3:\n",
        "            (lx,ly,lz)=x[i].shape\n",
        "            if lz==1: \n",
        "                xx=x[i].reshape(lx,ly)\n",
        "            else:\n",
        "                xx=x[i]\n",
        "        img=axs.imshow(xx,   cmap = cm, norm=norm, interpolation=interpolation)\n",
        "#         img=axs.imshow(xx,   cmap = cm, interpolation=interpolation)\n",
        "        axs.spines['right'].set_visible(True)\n",
        "        axs.spines['left'].set_visible(True)\n",
        "        axs.spines['top'].set_visible(True)\n",
        "        axs.spines['bottom'].set_visible(True)\n",
        "        axs.spines['right'].set_alpha(spines_alpha)\n",
        "        axs.spines['left'].set_alpha(spines_alpha)\n",
        "        axs.spines['top'].set_alpha(spines_alpha)\n",
        "        axs.spines['bottom'].set_alpha(spines_alpha)\n",
        "        axs.set_yticks([])\n",
        "        axs.set_xticks([])\n",
        "        if draw_labels and not draw_pred:\n",
        "            axs.set_xlabel(y[i],fontsize=fontsize)\n",
        "        if draw_labels and draw_pred:\n",
        "            if y[i]!=y_pred[i]:\n",
        "                axs.set_xlabel(f'{y_pred[i]} ({y[i]})',fontsize=fontsize)\n",
        "                axs.xaxis.label.set_color('red')\n",
        "            else:\n",
        "                axs.set_xlabel(y[i],fontsize=fontsize)\n",
        "        if colorbar:\n",
        "            fig.colorbar(img,orientation=\"vertical\", shrink=0.65)\n",
        "    plt.show()\n",
        "\n",
        "    \n",
        "def plot_image(x,cm='binary', figsize=(4,4),interpolation='lanczos', save_as='auto'):\n",
        "    \"\"\"\n",
        "    Draw a single image.\n",
        "    Image shape can be (lx,ly), (lx,ly,1) or (lx,ly,n)\n",
        "    args:\n",
        "        x       : image as np array\n",
        "        cm      : color map ('binary')\n",
        "        figsize : fig size (4,4)\n",
        "    \"\"\"\n",
        "    # ---- Shape is (lx,ly)\n",
        "    if len(x.shape)==2:\n",
        "        xx=x\n",
        "    # ---- Shape is (lx,ly,n)\n",
        "    if len(x.shape)==3:\n",
        "        (lx,ly,lz)=x.shape\n",
        "        if lz==1: \n",
        "            xx=x.reshape(lx,ly)\n",
        "        else:\n",
        "            xx=x\n",
        "    # ---- Draw it\n",
        "    plt.figure(figsize=figsize)\n",
        "    plt.imshow(xx,   cmap = cm, interpolation=interpolation)\n",
        "    plt.show()\n",
        "\n",
        "def plot_history(history, figsize=(8,6), \n",
        "                 plot={\"Accuracy\":['accuracy','val_accuracy'], 'Loss':['loss', 'val_loss']},\n",
        "                 save_as='auto'):\n",
        "    \"\"\"\n",
        "    Show history\n",
        "    args:\n",
        "        history: history\n",
        "        figsize: fig size\n",
        "        plot: list of data to plot : {<title>:[<metrics>,...], ...}\n",
        "    \"\"\"\n",
        "    fig_id=0\n",
        "    for title,curves in plot.items():\n",
        "        plt.figure(figsize=figsize)\n",
        "        plt.title(title)\n",
        "        plt.ylabel(title)\n",
        "        plt.xlabel('Epoch')\n",
        "        for c in curves:\n",
        "            plt.plot(history.history[c])\n",
        "        plt.legend(curves, loc='upper left')\n",
        "        if save_as=='auto':\n",
        "            figname='auto'\n",
        "        else:\n",
        "            figname=f'{save_as}_{fig_id}'\n",
        "            fig_id+=1\n",
        "        plt.show()\n",
        "\n",
        "def plot_confusion_matrix(y_true,y_pred,\n",
        "                          target_names,\n",
        "                          title='Confusion matrix',\n",
        "                          cmap=None,\n",
        "                          normalize=True,\n",
        "                          figsize=(10, 8),\n",
        "                          digit_format='{:0.2f}',\n",
        "                          save_as='auto'):\n",
        "    \"\"\"\n",
        "    given a sklearn confusion matrix (cm), make a nice plot\n",
        "\n",
        "    Arguments\n",
        "    ---------\n",
        "    cm:           confusion matrix from sklearn.metrics.confusion_matrix\n",
        "\n",
        "    target_names: given classification classes such as [0, 1, 2]\n",
        "                  the class names, for example: ['high', 'medium', 'low']\n",
        "\n",
        "    title:        the text to display at the top of the matrix\n",
        "\n",
        "    cmap:         the gradient of the values displayed from matplotlib.pyplot.cm\n",
        "                  see http://matplotlib.org/examples/color/colormaps_reference.html\n",
        "                  plt.get_cmap('jet') or plt.cm.Blues\n",
        "\n",
        "    normalize:    If False, plot the raw numbers\n",
        "                  If True, plot the proportions\n",
        "\n",
        "    Citiation\n",
        "    ---------\n",
        "    http://scikit-learn.org/stable/auto_examples/model_selection/plot_confusion_matrix.html\n",
        "\n",
        "    \"\"\"\n",
        "    cm = confusion_matrix( y_true,y_pred, normalize=None, labels=target_names)\n",
        "    \n",
        "    accuracy = np.trace(cm) / float(np.sum(cm))\n",
        "    misclass = 1 - accuracy\n",
        "\n",
        "    if cmap is None:\n",
        "        cmap = plt.get_cmap('Blues')\n",
        "\n",
        "    plt.figure(figsize=figsize)\n",
        "    plt.imshow(cm, interpolation='nearest', cmap=cmap)\n",
        "    plt.title(title)\n",
        "    plt.colorbar()\n",
        "\n",
        "    if target_names is not None:\n",
        "        tick_marks = np.arange(len(target_names))\n",
        "        plt.xticks(tick_marks, target_names, rotation=90)\n",
        "        plt.yticks(tick_marks, target_names)\n",
        "\n",
        "    if normalize:\n",
        "        cm = cm.astype('float') / cm.sum(axis=1)[:, np.newaxis]\n",
        "\n",
        "\n",
        "    thresh = cm.max() / 1.5 if normalize else cm.max() / 2\n",
        "    for i, j in itertools.product(range(cm.shape[0]), range(cm.shape[1])):\n",
        "        if normalize:\n",
        "            plt.text(j, i, digit_format.format(cm[i, j]),\n",
        "                     horizontalalignment=\"center\",\n",
        "                     color=\"white\" if cm[i, j] > thresh else \"black\")\n",
        "        else:\n",
        "            plt.text(j, i, \"{:,}\".format(cm[i, j]),\n",
        "                     horizontalalignment=\"center\",\n",
        "                     color=\"white\" if cm[i, j] > thresh else \"black\")\n",
        "\n",
        "    plt.tight_layout()\n",
        "    plt.ylabel('True label')\n",
        "    plt.xlabel('Predicted label\\naccuracy={:0.4f}; misclass={:0.4f}'.format(accuracy, misclass))\n",
        "    plt.show()\n",
        "\n",
        "\n",
        "    \n",
        "def display_confusion_matrix(y_true,y_pred,labels=None,color='green',\n",
        "                             font_size='12pt'):\n",
        "    \"\"\"\n",
        "    Show a confusion matrix for a predictions.\n",
        "    see : sklearn.metrics.confusion_matrix\n",
        "\n",
        "    Args:\n",
        "        y_true:       Real classes\n",
        "        y_pred:       Predicted classes\n",
        "        labels:       List of classes to show in the cm\n",
        "        color:        Color for the palette (green)\n",
        "        font_size:    Values font size \n",
        "        title:        the text to display at the top of the matrix        \n",
        "    \"\"\"\n",
        "    assert (labels!=None),\"Label must be set\"\n",
        "    \n",
        "    \n",
        "    cm = confusion_matrix( y_true,y_pred, normalize=\"true\", labels=labels)\n",
        "    df=pd.DataFrame(cm)\n",
        "\n",
        "#     cmap = sn.light_palette(color, as_cmap=True)\n",
        "\n",
        "    colorsList = ['whitesmoke','bisque']\n",
        "    cmap = matplotlib.colors.ListedColormap(colorsList)\n",
        "    cmap = matplotlib.colors.ListedColormap(cmap(np.linspace(0, 1, 256)))\n",
        "\n",
        "    df.style.set_properties(**{'font-size': '20pt'})\n",
        "    display(df.style.format('{:.2f}') \\\n",
        "            .background_gradient(cmap=cmap)\n",
        "            .set_properties(**{'font-size': font_size}))\n",
        "    \n",
        "\n",
        "def plot_donut(values, labels, colors=[\"lightsteelblue\",\"coral\"], figsize=(6,6), title=None):\n",
        "    \"\"\"\n",
        "    Draw a donut\n",
        "    args:\n",
        "        values   : list of values\n",
        "        labels   : list of labels\n",
        "        colors   : list of color ([\"lightsteelblue\",\"coral\"])\n",
        "        figsize  : size of figure ( (6,6) )\n",
        "    return:\n",
        "        nothing\n",
        "    \"\"\"\n",
        "    # ---- Title or not\n",
        "    if title != None :  display(Markdown(title))\n",
        "    # ---- Donut\n",
        "    plt.figure(figsize=figsize)\n",
        "    # ---- Draw a pie  chart..\n",
        "    plt.pie(values, labels=labels, \n",
        "            colors = colors, autopct='%1.1f%%', startangle=70, pctdistance=0.85,\n",
        "            textprops={'fontsize': 18},\n",
        "            wedgeprops={\"edgecolor\":\"w\",'linewidth': 5, 'linestyle': 'solid', 'antialiased': True})\n",
        "    # ---- ..with a white circle\n",
        "    circle = plt.Circle((0,0),0.70,fc='white')\n",
        "    ax = plt.gca()\n",
        "    ax.add_artist(circle)\n",
        "    # Equal aspect ratio ensures that pie is drawn as a circle\n",
        "    plt.axis('equal')  \n",
        "    plt.tight_layout()\n",
        "    plt.show()\n",
        "\n",
        "def rmax(l):\n",
        "    \"\"\"\n",
        "    Recursive max() for a given iterable of iterables\n",
        "    Should be np.array of np.array or list of list, etc.\n",
        "    args:\n",
        "        l : Iterable of iterables\n",
        "    return: \n",
        "        max value\n",
        "    \"\"\"\n",
        "    maxi = float('-inf')\n",
        "    for item in l:\n",
        "        if isinstance(item, Iterable):\n",
        "\n",
        "            t = rmax(item)\n",
        "        else:\n",
        "            t = item\n",
        "        if t > maxi:\n",
        "            maxi = t\n",
        "    return maxi\n",
        "\n",
        "def rmin(l):\n",
        "    \"\"\"\n",
        "    Recursive min() for a given iterable of iterables\n",
        "    Should be np.array of np.array or list of list, etc.\n",
        "    args:\n",
        "        l : Iterable of iterables\n",
        "    return: \n",
        "        min value\n",
        "    \"\"\"\n",
        "    mini = float('inf')\n",
        "    for item in l:\n",
        "        if isinstance(item, Iterable):\n",
        "            t = rmin(item)\n",
        "        else:\n",
        "            t = item\n",
        "        if t < mini:\n",
        "            mini = t\n",
        "    return mini\n",
        "\n"
      ],
      "metadata": {
        "cellView": "form",
        "id": "Xpj32iv5XlFk"
      },
      "execution_count": null,
      "outputs": []
    },
    {
      "cell_type": "markdown",
      "metadata": {
        "id": "LGD2-QJFV4mr"
      },
      "source": [
        "### 1.2 - Parameters\n",
        "The words in the vocabulary are classified from the most frequent to the rarest.\\\n",
        "`vocab_size` is the number of words we will remember in our vocabulary (the other words will be considered as unknown).\\\n",
        "`hide_most_frequently` is the number of ignored words, among the most common ones\\\n",
        "`fit_verbosity` is the verbosity during training : 0 = silent, 1 = progress bar, 2 = one line per epoch"
      ]
    },
    {
      "cell_type": "code",
      "execution_count": null,
      "metadata": {
        "id": "NEjQbgCVV4ms"
      },
      "outputs": [],
      "source": [
        "vocab_size           = 10000\n",
        "hide_most_frequently = 0\n",
        "\n",
        "epochs               = 10\n",
        "batch_size           = 512\n",
        "fit_verbosity        = 1"
      ]
    },
    {
      "cell_type": "markdown",
      "metadata": {
        "id": "8u7_9WUeV4mv"
      },
      "source": [
        "## Step 2 - Understanding hot-one encoding\n",
        "#### We have a **sentence** and a **dictionary** :"
      ]
    },
    {
      "cell_type": "code",
      "execution_count": null,
      "metadata": {
        "id": "jz3kt1AGV4mw"
      },
      "outputs": [],
      "source": [
        "sentence = \"I've never seen a movie like this before\"\n",
        "\n",
        "dictionary  = {\"a\":0, \"before\":1, \"fantastic\":2, \"i've\":3, \"is\":4, \"like\":5, \"movie\":6, \"never\":7, \"seen\":8, \"this\":9}"
      ]
    },
    {
      "cell_type": "markdown",
      "metadata": {
        "id": "cNuXmlDJV4mx"
      },
      "source": [
        "#### We encode our sentence as a **numerical vector** :"
      ]
    },
    {
      "cell_type": "code",
      "execution_count": null,
      "metadata": {
        "id": "4SM4L8mxV4mx"
      },
      "outputs": [],
      "source": [
        "sentence_words = sentence.lower().split()\n",
        "\n",
        "sentence_vect  = [ dictionary[w] for w in sentence_words ]\n",
        "\n",
        "print('Words sentence are         : ', sentence_words)\n",
        "print('Our vectorized sentence is : ', sentence_vect)"
      ]
    },
    {
      "cell_type": "markdown",
      "metadata": {
        "id": "R3Bsh2NCV4my"
      },
      "source": [
        "#### Next, we **one-hot** encode our vectorized sentence as a tensor :"
      ]
    },
    {
      "cell_type": "code",
      "execution_count": null,
      "metadata": {
        "id": "S8UWktyBV4my"
      },
      "outputs": [],
      "source": [
        "# ---- We get a (sentence length x vector size) matrix of zeros\n",
        "#\n",
        "onehot = np.zeros( (10,8) )\n",
        "\n",
        "# ---- We set some 1 for each word\n",
        "#\n",
        "for i,w in enumerate(sentence_vect):\n",
        "    onehot[w,i]=1\n",
        "\n",
        "# --- Show it\n",
        "#\n",
        "print('In a basic way :\\n\\n', onehot, '\\n\\nWith a pandas wiew :\\n')\n",
        "data={ f'{sentence_words[i]:.^10}':onehot[:,i] for i,w in enumerate(sentence_vect) }\n",
        "df=pd.DataFrame(data)\n",
        "df.index=dictionary.keys()\n",
        "df.style.set_precision(0).highlight_max(axis=0).set_properties(**{'text-align': 'center'})"
      ]
    },
    {
      "cell_type": "markdown",
      "metadata": {
        "id": "nc_k8JhiV4mz"
      },
      "source": [
        "## Step 3 - Retrieve data\n",
        "\n",
        "IMDb dataset can bet get directly from Keras - see [documentation](https://www.tensorflow.org/api_docs/python/tf/keras/datasets)  \n",
        "Note : Due to their nature, textual data can be somewhat complex.\n",
        "\n",
        "### 3.1 - Data structure :  \n",
        "The dataset is composed of 2 parts: \n",
        "\n",
        " - **reviews**, this will be our **x**\n",
        " - **opinions** (positive/negative), this will be our **y**\n",
        "\n",
        "There are also a **dictionary**, because words are indexed in reviews\n",
        "\n",
        "```\n",
        "<dataset> = (<reviews>, <opinions>)\n",
        "\n",
        "with :  <reviews>  = [ <review1>, <review2>, ... ]\n",
        "        <opinions> = [ <rate1>,   <rate2>,   ... ]   where <ratei>   = integer\n",
        "\n",
        "where : <reviewi> = [ <w1>, <w2>, ...]    <wi> are the index (int) of the word in the dictionary\n",
        "        <ratei>   = int                   0 for negative opinion, 1 for positive\n",
        "\n",
        "\n",
        "<dictionary> = [ <word1>:<w1>, <word2>:<w2>, ... ]\n",
        "\n",
        "with :  <wordi>   = word\n",
        "        <wi>      = int\n",
        "\n",
        "```"
      ]
    },
    {
      "cell_type": "markdown",
      "metadata": {
        "id": "Oy8MfC45V4mz"
      },
      "source": [
        "### 3.2 - Load dataset\n",
        "For simplicity, we will use a pre-formatted dataset - See [documentation](https://www.tensorflow.org/api_docs/python/tf/keras/datasets/imdb/load_data)  \n",
        "However, Keras offers some usefull tools for formatting textual data - See [documentation](https://www.tensorflow.org/api_docs/python/tf/keras/preprocessing/text)  \n",
        "\n",
        "By default : \n",
        " - Start of a sequence will be marked with : 1\n",
        " - Out of vocabulary word will be : 2\n",
        " - First index will be : 3"
      ]
    },
    {
      "cell_type": "code",
      "execution_count": null,
      "metadata": {
        "id": "0spPUQqQV4m0"
      },
      "outputs": [],
      "source": [
        "# ----- Retrieve x,y\n",
        "#\n",
        "(x_train, y_train), (x_test, y_test) = imdb.load_data( num_words=vocab_size, skip_top=hide_most_frequently)\n",
        "\n",
        "y_train = np.asarray(y_train).astype('float32')\n",
        "y_test  = np.asarray(y_test ).astype('float32')\n",
        "\n",
        "# ---- About\n",
        "#\n",
        "print(\"Max(x_train,x_test)  : \", rmax([x_train,x_test]) )\n",
        "print(\"Min(x_train,x_test)  : \", rmin([x_train,x_test]) )\n",
        "print(\"x_train : {}  y_train : {}\".format(x_train.shape, y_train.shape))\n",
        "print(\"x_test  : {}  y_test  : {}\".format(x_test.shape,  y_test.shape))"
      ]
    },
    {
      "cell_type": "markdown",
      "metadata": {
        "id": "V8rpyll2V4m0"
      },
      "source": [
        "## Step 4 - About our dataset\n",
        "When we loaded the dataset, we asked for using \\<start\\> as 1, \\<unknown word\\> as 2  \n",
        "So, we shifted the dataset by 3 with the parameter index_from=3\n",
        "\n",
        "### 4.1 - Sentences encoding"
      ]
    },
    {
      "cell_type": "code",
      "execution_count": null,
      "metadata": {
        "id": "DR3eoHlIV4m0"
      },
      "outputs": [],
      "source": [
        "print('\\nReview example (x_train[12]) :\\n\\n',x_train[12])\n",
        "print('\\nOpinions (y_train) :\\n\\n',y_train)"
      ]
    },
    {
      "cell_type": "markdown",
      "metadata": {
        "id": "DPBKGGM7V4m1"
      },
      "source": [
        "### 4.2 - Load dictionary"
      ]
    },
    {
      "cell_type": "code",
      "execution_count": null,
      "metadata": {
        "id": "gwperMwtV4m1"
      },
      "outputs": [],
      "source": [
        "# ---- Retrieve dictionary {word:index}, and encode it in ascii\n",
        "#\n",
        "word_index = imdb.get_word_index()\n",
        "\n",
        "# ---- Shift the dictionary from +3\n",
        "#\n",
        "word_index = {w:(i+3) for w,i in word_index.items()}\n",
        "\n",
        "# ---- Add <pad>, <start> and <unknown> tags\n",
        "#\n",
        "word_index.update( {'<pad>':0, '<start>':1, '<unknown>':2, '<undef>':3,} )\n",
        "\n",
        "# ---- Create a reverse dictionary : {index:word}\n",
        "#\n",
        "index_word = {index:word for word,index in word_index.items()} \n",
        "\n",
        "# ---- About dictionary\n",
        "#\n",
        "print('\\nDictionary size     : ', len(word_index))\n",
        "print('\\nSmall extract :\\n')\n",
        "for k in range(440,455):print(f'    {k:2d} : {index_word[k]}' )\n",
        "\n",
        "# ---- Add a nice function to transpose :\n",
        "#\n",
        "def dataset2text(review):\n",
        "    return ' '.join([index_word.get(i, '?') for i in review])"
      ]
    },
    {
      "cell_type": "markdown",
      "metadata": {
        "id": "GaIWcEbqV4m1"
      },
      "source": [
        "### 4.3 - Have a look, for human"
      ]
    },
    {
      "cell_type": "code",
      "execution_count": null,
      "metadata": {
        "id": "oPNGmtZ8V4m2"
      },
      "outputs": [],
      "source": [
        "print('Review example :')\n",
        "print(x_train[12])\n",
        "print('After translation :')\n",
        "print(dataset2text(x_train[12]))"
      ]
    },
    {
      "cell_type": "markdown",
      "metadata": {
        "id": "NUj1uvVgV4m2"
      },
      "source": [
        "### 4.4 - Few statistics"
      ]
    },
    {
      "cell_type": "code",
      "execution_count": null,
      "metadata": {
        "id": "5QamMbJ2V4m2"
      },
      "outputs": [],
      "source": [
        "sizes=[len(i) for i in x_train]\n",
        "plt.figure(figsize=(16,6))\n",
        "plt.hist(sizes, bins=400)\n",
        "plt.gca().set(title='Distribution of reviews by size - [{:5.2f}, {:5.2f}]'.format(min(sizes),max(sizes)), \n",
        "              xlabel='Size', ylabel='Density', xlim=[0,1500])\n",
        "plt.show()"
      ]
    },
    {
      "cell_type": "code",
      "execution_count": null,
      "metadata": {
        "id": "G4EWDWJaV4m2"
      },
      "outputs": [],
      "source": [
        "unk=[ 100*(s.count(2)/len(s)) for s in x_train]\n",
        "plt.figure(figsize=(16,6))\n",
        "plt.hist(unk, bins=100)\n",
        "plt.gca().set(title='Percent of unknown words - [{:5.2f}, {:5.2f}]'.format(min(unk),max(unk)), \n",
        "              xlabel='# unknown', ylabel='Density', xlim=[0,30])\n",
        "plt.show()"
      ]
    },
    {
      "cell_type": "markdown",
      "metadata": {
        "id": "p6Cp5MTgV4m3"
      },
      "source": [
        "## Step 5 - Basic approach with \"one-hot\" vector encoding\n",
        "Basic approach.  \n",
        "\n",
        "Each sentence is encoded with a **vector** of length equal to the **size of the dictionary**.   \n",
        "\n",
        "Each sentence will therefore be encoded with a simple vector.  \n",
        "The value of each component is 0 if the word is not present in the sentence or 1 if the word is present.\n",
        "\n",
        "For a sentence s=[3,4,7] and a dictionary of 10 words...    \n",
        "We wil have a vector v=[0,0,0,1,1,0,0,1,0,0,0]\n",
        "\n"
      ]
    },
    {
      "cell_type": "markdown",
      "metadata": {
        "id": "np3D6zOMV4m3"
      },
      "source": [
        "### 5.1 - Our one-hot encoder"
      ]
    },
    {
      "cell_type": "code",
      "execution_count": null,
      "metadata": {
        "id": "bGH8ZaUBV4m3"
      },
      "outputs": [],
      "source": [
        "def one_hot_encoder(x, vector_size=10000):\n",
        "    \n",
        "    # ---- Set all to 0\n",
        "    #\n",
        "    x_encoded = np.zeros((len(x), vector_size))\n",
        "    \n",
        "    # ---- For each sentence\n",
        "    #\n",
        "    for i,sentence in enumerate(x):\n",
        "        for word in sentence:\n",
        "            x_encoded[i, word] = 1.\n",
        "\n",
        "    return x_encoded"
      ]
    },
    {
      "cell_type": "markdown",
      "metadata": {
        "id": "k8loONXoV4m4"
      },
      "source": [
        "### 5.2 - Encoding.."
      ]
    },
    {
      "cell_type": "code",
      "execution_count": null,
      "metadata": {
        "id": "vGvmpg1EV4m4"
      },
      "outputs": [],
      "source": [
        "x_train = one_hot_encoder(x_train)\n",
        "x_test  = one_hot_encoder(x_test)\n",
        "\n",
        "print(\"To have a look, x_train[12] became :\", x_train[12] )"
      ]
    },
    {
      "cell_type": "markdown",
      "metadata": {
        "id": "XIwn4oTmV4m4"
      },
      "source": [
        "## Step 6 - Build the model"
      ]
    },
    {
      "cell_type": "code",
      "execution_count": null,
      "metadata": {
        "id": "0LxWbMn4V4m4"
      },
      "outputs": [],
      "source": [
        "def get_model(vector_size=10000):\n",
        "    \n",
        "    model = keras.Sequential()\n",
        "    model.add(keras.layers.Input( shape=(vector_size,) ))\n",
        "    model.add(keras.layers.Dense( 32, activation='relu'))\n",
        "    model.add(keras.layers.Dense( 32, activation='relu'))\n",
        "    model.add(keras.layers.Dense( 1, activation='sigmoid'))\n",
        "    \n",
        "    model.compile(optimizer = 'rmsprop',\n",
        "                  loss      = 'binary_crossentropy',\n",
        "                  metrics   = ['accuracy'])\n",
        "    return model"
      ]
    },
    {
      "cell_type": "markdown",
      "metadata": {
        "id": "HE9uCwKxV4m4"
      },
      "source": [
        "## Step 7 - Train the model\n",
        "### 7.1 - Get it"
      ]
    },
    {
      "cell_type": "code",
      "execution_count": null,
      "metadata": {
        "id": "dqxTw9uJV4m4"
      },
      "outputs": [],
      "source": [
        "model = get_model(vector_size=vocab_size)\n",
        "\n",
        "model.summary()"
      ]
    },
    {
      "cell_type": "markdown",
      "metadata": {
        "id": "DW9vldqjV4m5"
      },
      "source": [
        "### 7.2 - Add callback"
      ]
    },
    {
      "cell_type": "code",
      "execution_count": null,
      "metadata": {
        "id": "8Ww7qAs8V4m5"
      },
      "outputs": [],
      "source": [
        "os.makedirs(f'{run_dir}/models',   mode=0o750, exist_ok=True)\n",
        "save_dir = f'{run_dir}/models/best_model.h5'\n",
        "savemodel_callback = tf.keras.callbacks.ModelCheckpoint(filepath=save_dir, verbose=0, save_best_only=True)"
      ]
    },
    {
      "cell_type": "markdown",
      "metadata": {
        "id": "u0QpQWF3V4m5"
      },
      "source": [
        "### 7.3 - Train it"
      ]
    },
    {
      "cell_type": "code",
      "execution_count": null,
      "metadata": {
        "id": "EJnaKxEPV4m5"
      },
      "outputs": [],
      "source": [
        "%%time\n",
        "\n",
        "history = model.fit(x_train,\n",
        "                    y_train,\n",
        "                    epochs          = epochs,\n",
        "                    batch_size      = batch_size,\n",
        "                    validation_data = (x_test, y_test),\n",
        "                    verbose         = fit_verbosity,\n",
        "                    callbacks       = [savemodel_callback])\n"
      ]
    },
    {
      "cell_type": "markdown",
      "metadata": {
        "id": "hasJHz0rV4m5"
      },
      "source": [
        "## Step 8 - Evaluate\n",
        "### 8.1 - Training history"
      ]
    },
    {
      "cell_type": "code",
      "execution_count": null,
      "metadata": {
        "id": "HQOKUSCMV4m6"
      },
      "outputs": [],
      "source": [
        "plot_history(history)"
      ]
    },
    {
      "cell_type": "markdown",
      "metadata": {
        "id": "kVJTupUIV4m6"
      },
      "source": [
        "### 8.2 - Reload and evaluate best model"
      ]
    },
    {
      "cell_type": "code",
      "execution_count": null,
      "metadata": {
        "id": "wqy5FPDQV4m6"
      },
      "outputs": [],
      "source": [
        "model = keras.models.load_model(f'{run_dir}/models/best_model.h5')\n",
        "\n",
        "# ---- Evaluate\n",
        "score  = model.evaluate(x_test, y_test, verbose=0)\n",
        "\n",
        "print('x_test / loss      : {:5.4f}'.format(score[0]))\n",
        "print('x_test / accuracy  : {:5.4f}'.format(score[1]))\n",
        "\n",
        "values=[score[1], 1-score[1]]\n",
        "print(\"Accuracy donut is :\")\n",
        "plot_donut(values,[\"Accuracy\",\"Errors\"])\n",
        "\n",
        "# ---- Confusion matrix\n",
        "\n",
        "y_sigmoid = model.predict(x_test)\n",
        "\n",
        "y_pred = y_sigmoid.copy()\n",
        "y_pred[ y_sigmoid< 0.5 ] = 0\n",
        "y_pred[ y_sigmoid>=0.5 ] = 1    \n",
        "\n",
        "display_confusion_matrix(y_test,y_pred,labels=range(2))\n",
        "plot_confusion_matrix(y_test,y_pred,range(2), figsize=(8, 8),normalize=False)"
      ]
    },
    {
      "cell_type": "code",
      "source": [
        ""
      ],
      "metadata": {
        "id": "_jyWysBgaCwI"
      },
      "execution_count": null,
      "outputs": []
    },
    {
      "cell_type": "markdown",
      "source": [
        "* Exercice extrait de la formation FIDLE https://gricad-gitlab.univ-grenoble-alpes.fr/talks/fidle"
      ],
      "metadata": {
        "id": "kNtd-10icUmP"
      }
    },
    {
      "cell_type": "code",
      "source": [
        ""
      ],
      "metadata": {
        "id": "gXRnvKtDcgAf"
      },
      "execution_count": null,
      "outputs": []
    }
  ],
  "metadata": {
    "kernelspec": {
      "display_name": "Python 3",
      "language": "python",
      "name": "python3"
    },
    "language_info": {
      "codemirror_mode": {
        "name": "ipython",
        "version": 3
      },
      "file_extension": ".py",
      "mimetype": "text/x-python",
      "name": "python",
      "nbconvert_exporter": "python",
      "pygments_lexer": "ipython3",
      "version": "3.8.5"
    },
    "colab": {
      "name": "01-One-hot-encoding.ipynb",
      "provenance": []
    },
    "accelerator": "GPU"
  },
  "nbformat": 4,
  "nbformat_minor": 0
}